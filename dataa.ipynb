{
 "cells": [
  {
   "cell_type": "markdown",
   "id": "d66909108f24a27d",
   "metadata": {
    "collapsed": false
   },
   "source": [
    "---\n",
    "title: \"Data of exploration over parameters in the ABM model ($2^{nd}$ part)\"\n",
    "author: \"Hector Castillo\"\n",
    "format: pdf\n",
    "toc: true\n",
    "number-sections: false\n",
    "jupyter: python3\n",
    "ipynb-shell-interactivity: all\n",
    "\n",
    "---"
   ]
  },
  {
   "cell_type": "code",
   "execution_count": 1,
   "id": "c007085b6fc46c89",
   "metadata": {
    "ExecuteTime": {
     "end_time": "2024-04-20T22:07:04.820503Z",
     "start_time": "2024-04-20T22:07:04.806532Z"
    }
   },
   "outputs": [],
   "source": [
    "#| echo: false\n",
    "path_to_data = '..\\\\experiments\\\\tablesa\\\\'\n",
    "from IPython.display import Markdown\n",
    "import pandas as pd\n",
    "\n",
    "def recover_data(origin):\n",
    "    return pd.read_pickle(f\"{path_to_data}{origin}.pickle\")\n",
    "\n",
    "def generate_markdown(origin):\n",
    "    data_frame = recover_data(origin)\n",
    "    return 'hola\\n'+Markdown('$\\\\begin{matrix} & \\\\eta \\\\\\\\ \\\\beta & \\\\end{matrix}$'+data_frame.to_markdown()[1:])\n",
    "\n"
   ]
  },
  {
   "cell_type": "markdown",
   "id": "e2c67b2c4ca9b40a",
   "metadata": {
    "collapsed": false
   },
   "source": [
    "{{< pagebreak >}}\n",
    "## Firms Y"
   ]
  },
  {
   "cell_type": "code",
   "execution_count": 2,
   "id": "f9f56e4220d18dcd",
   "metadata": {
    "ExecuteTime": {
     "end_time": "2024-04-20T22:07:05.410089Z",
     "start_time": "2024-04-20T22:07:05.381357Z"
    }
   },
   "outputs": [
    {
     "data": {
      "text/markdown": [
       "$\\begin{matrix} & \\eta \\\\ \\beta & \\end{matrix}$      |   0.0001 |     0.1 |     0.3 |     0.5 |     0.8 |\n",
       "|-----:|---------:|--------:|--------:|--------:|--------:|\n",
       "| 0.02 | 102.979  | 67.9496 | 19.4134 | 6.47718 | 5.45065 |\n",
       "| 0.03 | 110.183  | 64.9893 | 19.2517 | 6.48023 | 5.44931 |\n",
       "| 0.04 |  99.9463 | 63.4206 | 18.3414 | 6.45007 | 5.44804 |\n",
       "| 0.05 |  95.4972 | 62.5316 | 17.6694 | 6.4244  | 5.44928 |"
      ],
      "text/plain": [
       "<IPython.core.display.Markdown object>"
      ]
     },
     "execution_count": 2,
     "metadata": {},
     "output_type": "execute_result"
    }
   ],
   "source": [
    "#| label: tbl-firmsy\n",
    "#| tbl-cap: \"Output of firms (logarithm)\"\n",
    "#| echo: false\n",
    "generate_markdown('FirmsY')"
   ]
  },
  {
   "cell_type": "code",
   "execution_count": 3,
   "id": "8ab59f7e39a0ef5d",
   "metadata": {
    "ExecuteTime": {
     "end_time": "2024-04-20T22:07:05.471866Z",
     "start_time": "2024-04-20T22:07:05.436156Z"
    }
   },
   "outputs": [
    {
     "data": {
      "text/markdown": [
       "$\\begin{matrix} & \\eta \\\\ \\beta & \\end{matrix}$      |   0.0001 |     0.1 |     0.3 |      0.5 |       0.8 |\n",
       "|-----:|---------:|--------:|--------:|---------:|----------:|\n",
       "| 0.02 |  40.9544 | 23.869  | 5.19864 | 0.138531 | 0.0608013 |\n",
       "| 0.03 |  46.0757 | 21.5909 | 4.64703 | 0.140909 | 0.0639022 |\n",
       "| 0.04 |  40.3434 | 21.0393 | 4.3657  | 0.13598  | 0.0675155 |\n",
       "| 0.05 |  38.7117 | 23.2697 | 4.29983 | 0.134317 | 0.0679727 |"
      ],
      "text/plain": [
       "<IPython.core.display.Markdown object>"
      ]
     },
     "execution_count": 3,
     "metadata": {},
     "output_type": "execute_result"
    }
   ],
   "source": [
    "#| label: tbl-firmsy_std\n",
    "#| tbl-cap: \"Standard deviation of output of firms (logarithm)\"\n",
    "#| echo: false\n",
    "generate_markdown('FirmsY_std')"
   ]
  },
  {
   "cell_type": "markdown",
   "id": "a2f298f7c184a813",
   "metadata": {
    "collapsed": false
   },
   "source": [
    "{{< pagebreak >}}\n",
    "## Firms R"
   ]
  },
  {
   "cell_type": "code",
   "execution_count": 4,
   "id": "874133827fcfc1be",
   "metadata": {
    "ExecuteTime": {
     "end_time": "2024-04-20T22:07:05.503734Z",
     "start_time": "2024-04-20T22:07:05.479086Z"
    }
   },
   "outputs": [
    {
     "data": {
      "text/markdown": [
       "$\\begin{matrix} & \\eta \\\\ \\beta & \\end{matrix}$      |   0.0001 |      0.1 |      0.3 |      0.5 |      0.8 |\n",
       "|-----:|---------:|---------:|---------:|---------:|---------:|\n",
       "| 0.02 | -5.21883 | -5.10618 | -4.34647 | -4.10611 | -3.76894 |\n",
       "| 0.03 | -4.80997 | -4.68733 | -3.91404 | -3.67326 | -3.3027  |\n",
       "| 0.04 | -4.48764 | -4.37346 | -3.59971 | -3.35791 | -2.96584 |\n",
       "| 0.05 | -4.26351 | -4.14953 | -3.3283  | -3.0944  | -2.70701 |"
      ],
      "text/plain": [
       "<IPython.core.display.Markdown object>"
      ]
     },
     "execution_count": 4,
     "metadata": {},
     "output_type": "execute_result"
    }
   ],
   "source": [
    "#| label: tbl-firmsr\n",
    "#| tbl-cap: \"Interest rate of firms\"\n",
    "#| echo: false\n",
    "generate_markdown('FirmsR')"
   ]
  },
  {
   "cell_type": "code",
   "execution_count": 5,
   "id": "1d314d4defaac780",
   "metadata": {
    "ExecuteTime": {
     "end_time": "2024-04-20T22:07:05.597738Z",
     "start_time": "2024-04-20T22:07:05.562678Z"
    }
   },
   "outputs": [
    {
     "data": {
      "text/markdown": [
       "$\\begin{matrix} & \\eta \\\\ \\beta & \\end{matrix}$      |   0.0001 |      0.1 |      0.3 |      0.5 |      0.8 |\n",
       "|-----:|---------:|---------:|---------:|---------:|---------:|\n",
       "| 0.02 | 0.675279 | 0.68971  | 0.628362 | 0.614975 | 0.538328 |\n",
       "| 0.03 | 0.682107 | 0.689224 | 0.610813 | 0.597232 | 0.536729 |\n",
       "| 0.04 | 0.671568 | 0.696766 | 0.605545 | 0.579048 | 0.5204   |\n",
       "| 0.05 | 0.671061 | 0.667009 | 0.603365 | 0.567113 | 0.492189 |"
      ],
      "text/plain": [
       "<IPython.core.display.Markdown object>"
      ]
     },
     "execution_count": 5,
     "metadata": {},
     "output_type": "execute_result"
    }
   ],
   "source": [
    "#| label: tbl-firmsr_std\n",
    "#| tbl-cap: \"Standard deviation of interest rate\"\n",
    "#| echo: false\n",
    "generate_markdown('FirmsR_std')"
   ]
  },
  {
   "cell_type": "markdown",
   "id": "dad065e5bb3004cf",
   "metadata": {
    "collapsed": false
   },
   "source": [
    "{{< pagebreak >}}\n",
    "## Firms K"
   ]
  },
  {
   "cell_type": "code",
   "execution_count": 6,
   "id": "a0ed806e4a4ada5f",
   "metadata": {
    "ExecuteTime": {
     "end_time": "2024-04-20T22:07:05.754187Z",
     "start_time": "2024-04-20T22:07:05.722879Z"
    }
   },
   "outputs": [
    {
     "data": {
      "text/markdown": [
       "$\\begin{matrix} & \\eta \\\\ \\beta & \\end{matrix}$      |   0.0001 |     0.1 |     0.3 |     0.5 |     0.8 |\n",
       "|-----:|---------:|--------:|--------:|--------:|--------:|\n",
       "| 0.02 | 102.797  | 67.7673 | 19.2311 | 6.29486 | 5.26833 |\n",
       "| 0.03 | 110.001  | 64.807  | 19.0694 | 6.29791 | 5.26699 |\n",
       "| 0.04 |  99.764  | 63.2383 | 18.1591 | 6.26774 | 5.26572 |\n",
       "| 0.05 |  95.3149 | 62.3493 | 17.4871 | 6.24208 | 5.26696 |"
      ],
      "text/plain": [
       "<IPython.core.display.Markdown object>"
      ]
     },
     "execution_count": 6,
     "metadata": {},
     "output_type": "execute_result"
    }
   ],
   "source": [
    "#| label: tbl-firmsk\n",
    "#| echo: false\n",
    "generate_markdown('FirmsK')"
   ]
  },
  {
   "cell_type": "markdown",
   "id": "409369443635eaae",
   "metadata": {
    "collapsed": false
   },
   "source": [
    "#| echo: false\n",
    "generate_markdown('FirmsK_std')"
   ]
  },
  {
   "cell_type": "markdown",
   "id": "22e91db0908ed032",
   "metadata": {
    "collapsed": false
   },
   "source": [
    "{{< pagebreak >}}\n",
    "## Firms A"
   ]
  },
  {
   "cell_type": "code",
   "execution_count": 7,
   "id": "29c22327b2d57d85",
   "metadata": {
    "ExecuteTime": {
     "end_time": "2024-04-20T22:07:05.877823Z",
     "start_time": "2024-04-20T22:07:05.847387Z"
    }
   },
   "outputs": [
    {
     "data": {
      "text/markdown": [
       "$\\begin{matrix} & \\eta \\\\ \\beta & \\end{matrix}$      |       0.0001 |         0.1 |         0.3 |     0.5 |     0.8 |\n",
       "|-----:|-------------:|------------:|------------:|--------:|--------:|\n",
       "| 0.02 | 3.73355e+97  | 1.32499e+55 | 1.4343e+16  | 456.387 | 121.171 |\n",
       "| 0.03 | 9.76009e+104 | 5.20752e+51 | 5.41516e+13 | 456.713 | 115.998 |\n",
       "| 0.04 | 2.24857e+103 | 1.30085e+52 | 2.01665e+13 | 440.341 | 111.605 |\n",
       "| 0.05 | 3.24439e+89  | 2.52153e+57 | 3.59508e+12 | 426.169 | 107.383 |"
      ],
      "text/plain": [
       "<IPython.core.display.Markdown object>"
      ]
     },
     "execution_count": 7,
     "metadata": {},
     "output_type": "execute_result"
    }
   ],
   "source": [
    "#| label: tbl-firmsa\n",
    "#| echo: false\n",
    "generate_markdown('FirmsA')"
   ]
  },
  {
   "cell_type": "code",
   "execution_count": 8,
   "id": "7d552eae5d122c44",
   "metadata": {
    "ExecuteTime": {
     "end_time": "2024-04-20T22:07:05.957699Z",
     "start_time": "2024-04-20T22:07:05.919526Z"
    }
   },
   "outputs": [
    {
     "data": {
      "text/markdown": [
       "$\\begin{matrix} & \\eta \\\\ \\beta & \\end{matrix}$      |       0.0001 |         0.1 |         0.3 |     0.5 |     0.8 |\n",
       "|-----:|-------------:|------------:|------------:|--------:|--------:|\n",
       "| 0.02 | 1.44606e+99  | 3.35922e+56 | 3.9417e+17  | 77.502  | 15.224  |\n",
       "| 0.03 | 3.83243e+106 | 1.86083e+53 | 1.55636e+15 | 77.9337 | 15.7945 |\n",
       "| 0.04 | 9.74748e+104 | 4.63215e+53 | 4.81385e+14 | 71.8703 | 16.0898 |\n",
       "| 0.05 | 1.19292e+91  | 7.79117e+58 | 7.2835e+13  | 69.6728 | 16.9658 |"
      ],
      "text/plain": [
       "<IPython.core.display.Markdown object>"
      ]
     },
     "execution_count": 8,
     "metadata": {},
     "output_type": "execute_result"
    }
   ],
   "source": [
    "#| echo: false\n",
    "generate_markdown('FirmsA_std')"
   ]
  },
  {
   "cell_type": "markdown",
   "id": "4197995d88d19ae",
   "metadata": {
    "collapsed": false
   },
   "source": [
    "{{< pagebreak >}}\n",
    "## Firms L"
   ]
  },
  {
   "cell_type": "code",
   "execution_count": 9,
   "id": "8b804e59b4bbfd29",
   "metadata": {
    "ExecuteTime": {
     "end_time": "2024-04-20T22:07:06.175894Z",
     "start_time": "2024-04-20T22:07:06.130443Z"
    }
   },
   "outputs": [
    {
     "data": {
      "text/markdown": [
       "$\\begin{matrix} & \\eta \\\\ \\beta & \\end{matrix}$      |   0.0001 |     0.1 |     0.3 |     0.5 |     0.8 |\n",
       "|-----:|---------:|--------:|--------:|--------:|--------:|\n",
       "| 0.02 |  75.2931 | 49.9736 | 13.922  | 4.47932 | 4.27204 |\n",
       "| 0.03 |  78.0084 | 47.9812 | 13.839  | 4.49584 | 4.33918 |\n",
       "| 0.04 |  71.3572 | 46.4984 | 13.2153 | 4.49404 | 4.39226 |\n",
       "| 0.05 |  67.6318 | 44.8339 | 12.6535 | 4.5015  | 4.44531 |"
      ],
      "text/plain": [
       "<IPython.core.display.Markdown object>"
      ]
     },
     "execution_count": 9,
     "metadata": {},
     "output_type": "execute_result"
    }
   ],
   "source": [
    "#| label: tbl-l\n",
    "#| echo: false\n",
    "generate_markdown('FirmsL')"
   ]
  },
  {
   "cell_type": "code",
   "execution_count": 10,
   "id": "3cbb7ac5fcb2e5c2",
   "metadata": {
    "ExecuteTime": {
     "end_time": "2024-04-20T22:07:06.393262Z",
     "start_time": "2024-04-20T22:07:06.351018Z"
    }
   },
   "outputs": [
    {
     "data": {
      "text/markdown": [
       "$\\begin{matrix} & \\eta \\\\ \\beta & \\end{matrix}$      |   0.0001 |     0.1 |     0.3 |      0.5 |      0.8 |\n",
       "|-----:|---------:|--------:|--------:|---------:|---------:|\n",
       "| 0.02 |  33.1814 | 20.5702 | 4.61722 | 0.232176 | 0.199221 |\n",
       "| 0.03 |  36.698  | 19.427  | 4.47122 | 0.23061  | 0.191573 |\n",
       "| 0.04 |  31.9071 | 18.4562 | 4.21987 | 0.223548 | 0.187771 |\n",
       "| 0.05 |  30.1295 | 19.0799 | 4.05608 | 0.217745 | 0.18716  |"
      ],
      "text/plain": [
       "<IPython.core.display.Markdown object>"
      ]
     },
     "execution_count": 10,
     "metadata": {},
     "output_type": "execute_result"
    }
   ],
   "source": [
    "#| echo: false\n",
    "generate_markdown('FirmsL_std')"
   ]
  },
  {
   "cell_type": "markdown",
   "id": "159349025e36651b",
   "metadata": {
    "collapsed": false
   },
   "source": [
    "{{< pagebreak >}}\n",
    "## Firms PROFITS"
   ]
  },
  {
   "cell_type": "code",
   "execution_count": 11,
   "id": "6f44a9b2c5bccbe6",
   "metadata": {
    "ExecuteTime": {
     "end_time": "2024-04-20T22:07:06.517874Z",
     "start_time": "2024-04-20T22:07:06.474028Z"
    }
   },
   "outputs": [
    {
     "data": {
      "text/markdown": [
       "$\\begin{matrix} & \\eta \\\\ \\beta & \\end{matrix}$      |        0.0001 |          0.1 |          0.3 |      0.5 |      0.8 |\n",
       "|-----:|--------------:|-------------:|-------------:|---------:|---------:|\n",
       "| 0.02 |  1.04837e+97  | -3.6835e+52  | -7.04001e+12 | -14.19   | -25.5539 |\n",
       "| 0.03 | -7.23791e+102 | -1.57032e+50 | -7.47399e+11 | -15.0299 | -28.7905 |\n",
       "| 0.04 | -1.68083e+102 | -5.08059e+49 | -7.07582e+10 | -16.1771 | -31.3101 |\n",
       "| 0.05 | -2.22832e+88  | -3.65859e+55 | -6.31116e+09 | -17.1695 | -34.4419 |"
      ],
      "text/plain": [
       "<IPython.core.display.Markdown object>"
      ]
     },
     "execution_count": 11,
     "metadata": {},
     "output_type": "execute_result"
    }
   ],
   "source": [
    "#| label: tbl-profits\n",
    "#| echo: false\n",
    "generate_markdown('FirmsPROFITS')"
   ]
  },
  {
   "cell_type": "code",
   "execution_count": 12,
   "id": "c408bc7aec8e7e51",
   "metadata": {
    "ExecuteTime": {
     "end_time": "2024-04-20T22:07:06.707992Z",
     "start_time": "2024-04-20T22:07:06.668625Z"
    }
   },
   "outputs": [
    {
     "data": {
      "text/markdown": [
       "$\\begin{matrix} & \\eta \\\\ \\beta & \\end{matrix}$      |       0.0001 |         0.1 |         0.3 |      0.5 |     0.8 |\n",
       "|-----:|-------------:|------------:|------------:|---------:|--------:|\n",
       "| 0.02 | 8.52323e+98  | 2.31774e+56 | 1.98795e+17 | 123.14   | 22.2618 |\n",
       "| 0.03 | 2.19356e+106 | 1.00534e+53 | 9.8448e+14  |  67.2837 | 39.8441 |\n",
       "| 0.04 | 8.41614e+104 | 3.06338e+53 | 2.13869e+14 |  87.7967 | 22.563  |\n",
       "| 0.05 | 9.07152e+90  | 5.4324e+58  | 3.14957e+13 |  66.0846 | 26.8435 |"
      ],
      "text/plain": [
       "<IPython.core.display.Markdown object>"
      ]
     },
     "execution_count": 12,
     "metadata": {},
     "output_type": "execute_result"
    }
   ],
   "source": [
    "#| echo: false\n",
    "generate_markdown('FirmsPROFITS_std')"
   ]
  },
  {
   "cell_type": "markdown",
   "id": "15db4faa77cd5105",
   "metadata": {
    "collapsed": false
   },
   "source": [
    "{{< pagebreak >}}\n",
    "## Firms I"
   ]
  },
  {
   "cell_type": "code",
   "execution_count": 13,
   "id": "f0cfa4141edc0459",
   "metadata": {
    "ExecuteTime": {
     "end_time": "2024-04-20T22:07:06.902645Z",
     "start_time": "2024-04-20T22:07:06.875162Z"
    }
   },
   "outputs": [
    {
     "data": {
      "text/markdown": [
       "$\\begin{matrix} & \\eta \\\\ \\beta & \\end{matrix}$      |        0.0001 |          0.1 |          0.3 |      0.5 |      0.8 |\n",
       "|-----:|--------------:|-------------:|-------------:|---------:|---------:|\n",
       "| 0.02 | -8.58854e+96  | -5.00101e+54 | -6.59573e+15 | -239.029 | -142.179 |\n",
       "| 0.03 | -4.12845e+104 | -1.55697e+51 | -1.62875e+13 | -242.937 | -148.296 |\n",
       "| 0.04 | -6.70094e+102 | -6.26778e+51 | -7.84024e+12 | -240.395 | -153.523 |\n",
       "| 0.05 | -1.12111e+89  | -1.0112e+57  | -1.49192e+12 | -239.551 | -159.185 |"
      ],
      "text/plain": [
       "<IPython.core.display.Markdown object>"
      ]
     },
     "execution_count": 13,
     "metadata": {},
     "output_type": "execute_result"
    }
   ],
   "source": [
    "#| label: tbl-firmsi\n",
    "#| echo: false\n",
    "generate_markdown('FirmsI')"
   ]
  },
  {
   "cell_type": "code",
   "execution_count": 14,
   "id": "d56c3815dff084c3",
   "metadata": {
    "ExecuteTime": {
     "end_time": "2024-04-20T22:07:06.965863Z",
     "start_time": "2024-04-20T22:07:06.933949Z"
    }
   },
   "outputs": [
    {
     "data": {
      "text/markdown": [
       "$\\begin{matrix} & \\eta \\\\ \\beta & \\end{matrix}$      |       0.0001 |         0.1 |         0.3 |     0.5 |     0.8 |\n",
       "|-----:|-------------:|------------:|------------:|--------:|--------:|\n",
       "| 0.02 | 2.8956e+98   | 1.37799e+56 | 1.81503e+17 | 31.5796 | 22.3264 |\n",
       "| 0.03 | 1.52995e+106 | 5.43751e+52 | 4.48541e+14 | 32.4013 | 22.4469 |\n",
       "| 0.04 | 2.80358e+104 | 2.54849e+53 | 2.01721e+14 | 30.3492 | 22.6747 |\n",
       "| 0.05 | 3.77082e+90  | 2.98887e+58 | 3.30878e+13 | 29.1524 | 23.4286 |"
      ],
      "text/plain": [
       "<IPython.core.display.Markdown object>"
      ]
     },
     "execution_count": 14,
     "metadata": {},
     "output_type": "execute_result"
    }
   ],
   "source": [
    "#| echo: false\n",
    "generate_markdown('FirmsI_std')"
   ]
  },
  {
   "cell_type": "markdown",
   "id": "c5585421fc62ad81",
   "metadata": {
    "collapsed": false
   },
   "source": [
    "{{< pagebreak >}}\n",
    "## Firms GAMMA"
   ]
  },
  {
   "cell_type": "code",
   "execution_count": 15,
   "id": "4b1540d49662a551",
   "metadata": {
    "ExecuteTime": {
     "end_time": "2024-04-20T22:07:07.153608Z",
     "start_time": "2024-04-20T22:07:07.120589Z"
    }
   },
   "outputs": [
    {
     "data": {
      "text/markdown": [
       "$\\begin{matrix} & \\eta \\\\ \\beta & \\end{matrix}$      |   0.0001 |      0.1 |      0.3 |      0.5 |      0.8 |\n",
       "|-----:|---------:|---------:|---------:|---------:|---------:|\n",
       "| 0.02 | 0.709517 | 0.727405 | 0.720479 | 0.729575 | 0.734324 |\n",
       "| 0.03 | 0.713249 | 0.723268 | 0.726645 | 0.741662 | 0.749289 |\n",
       "| 0.04 | 0.717219 | 0.719644 | 0.737697 | 0.752336 | 0.753477 |\n",
       "| 0.05 | 0.723096 | 0.723124 | 0.744654 | 0.757792 | 0.763984 |"
      ],
      "text/plain": [
       "<IPython.core.display.Markdown object>"
      ]
     },
     "execution_count": 15,
     "metadata": {},
     "output_type": "execute_result"
    }
   ],
   "source": [
    "#| label: tbl-gamma\n",
    "#| echo: false\n",
    "generate_markdown('FirmsGAMMA')"
   ]
  },
  {
   "cell_type": "code",
   "execution_count": 16,
   "id": "9cc352a93c3833b8",
   "metadata": {
    "ExecuteTime": {
     "end_time": "2024-04-20T22:07:07.372614Z",
     "start_time": "2024-04-20T22:07:07.338060Z"
    }
   },
   "outputs": [
    {
     "data": {
      "text/markdown": [
       "$\\begin{matrix} & \\eta \\\\ \\beta & \\end{matrix}$      |    0.0001 |       0.1 |      0.3 |      0.5 |      0.8 |\n",
       "|-----:|----------:|----------:|---------:|---------:|---------:|\n",
       "| 0.02 | 0.0646458 | 1.45385   | 0.225986 | 0.715348 | 0.532637 |\n",
       "| 0.03 | 0.0631314 | 0.822353  | 0.1331   | 0.778815 | 1.02607  |\n",
       "| 0.04 | 0.0931982 | 0.0983304 | 0.342586 | 0.90861  | 0.285511 |\n",
       "| 0.05 | 0.153604  | 0.105404  | 0.157462 | 0.523502 | 0.320801 |"
      ],
      "text/plain": [
       "<IPython.core.display.Markdown object>"
      ]
     },
     "execution_count": 16,
     "metadata": {},
     "output_type": "execute_result"
    }
   ],
   "source": [
    "#| echo: false\n",
    "generate_markdown('FirmsGAMMA_std')"
   ]
  },
  {
   "cell_type": "markdown",
   "id": "e461734e87119bb",
   "metadata": {
    "collapsed": false
   },
   "source": [
    "{{< pagebreak >}}\n",
    "## Firms U"
   ]
  },
  {
   "cell_type": "code",
   "execution_count": 17,
   "id": "e35bf0bddbc4a9e6",
   "metadata": {
    "ExecuteTime": {
     "end_time": "2024-04-20T22:07:07.495528Z",
     "start_time": "2024-04-20T22:07:07.470326Z"
    }
   },
   "outputs": [
    {
     "data": {
      "text/markdown": [
       "$\\begin{matrix} & \\eta \\\\ \\beta & \\end{matrix}$      |   0.0001 |      0.1 |     0.3 |      0.5 |      0.8 |\n",
       "|-----:|---------:|---------:|--------:|---------:|---------:|\n",
       "| 0.02 | 0.999388 | 0.999882 | 1.00067 | 0.99941  | 1.00105  |\n",
       "| 0.03 | 1.00029  | 1.00025  | 1.0014  | 1.00067  | 0.999672 |\n",
       "| 0.04 | 0.999461 | 1.00048  | 1.00034 | 1.00012  | 0.999701 |\n",
       "| 0.05 | 0.999899 | 0.999036 | 1.0005  | 0.999062 | 1.00067  |"
      ],
      "text/plain": [
       "<IPython.core.display.Markdown object>"
      ]
     },
     "execution_count": 17,
     "metadata": {},
     "output_type": "execute_result"
    }
   ],
   "source": [
    "#| label: tbl-u\n",
    "#| echo: false\n",
    "generate_markdown('FirmsU')"
   ]
  },
  {
   "cell_type": "code",
   "execution_count": 18,
   "id": "c60146690c1877d4",
   "metadata": {
    "ExecuteTime": {
     "end_time": "2024-04-20T22:07:07.650948Z",
     "start_time": "2024-04-20T22:07:07.607629Z"
    }
   },
   "outputs": [
    {
     "data": {
      "text/markdown": [
       "$\\begin{matrix} & \\eta \\\\ \\beta & \\end{matrix}$      |    0.0001 |       0.1 |       0.3 |       0.5 |       0.8 |\n",
       "|-----:|----------:|----------:|----------:|----------:|----------:|\n",
       "| 0.02 | 0.0578837 | 0.0581232 | 0.057267  | 0.0579261 | 0.0574756 |\n",
       "| 0.03 | 0.0576865 | 0.0578825 | 0.057873  | 0.0575323 | 0.057514  |\n",
       "| 0.04 | 0.0575045 | 0.0568961 | 0.0573696 | 0.0576156 | 0.0567413 |\n",
       "| 0.05 | 0.0579953 | 0.0574492 | 0.0578362 | 0.0576964 | 0.0575323 |"
      ],
      "text/plain": [
       "<IPython.core.display.Markdown object>"
      ]
     },
     "execution_count": 18,
     "metadata": {},
     "output_type": "execute_result"
    }
   ],
   "source": [
    "#| echo: false\n",
    "generate_markdown('FirmsU_std')"
   ]
  },
  {
   "cell_type": "markdown",
   "id": "2e117d94361abae6",
   "metadata": {
    "collapsed": false
   },
   "source": [
    "{{< pagebreak >}}\n",
    "## Firms DK"
   ]
  },
  {
   "cell_type": "code",
   "execution_count": 19,
   "id": "6925120e17a8ac70",
   "metadata": {
    "ExecuteTime": {
     "end_time": "2024-04-20T22:07:07.911136Z",
     "start_time": "2024-04-20T22:07:07.869621Z"
    }
   },
   "outputs": [
    {
     "data": {
      "text/markdown": [
       "$\\begin{matrix} & \\eta \\\\ \\beta & \\end{matrix}$      |       0.0001 |         0.1 |         0.3 |     0.5 |     0.8 |\n",
       "|-----:|-------------:|------------:|------------:|--------:|--------:|\n",
       "| 0.02 | 1.91561e+97  | 9.39839e+54 | 1.01689e+16 | 325.875 | 92.0117 |\n",
       "| 0.03 | 6.95271e+104 | 3.71632e+51 | 3.86382e+13 | 325.536 | 89.9636 |\n",
       "| 0.04 | 1.6043e+103  | 9.19934e+51 | 1.43171e+13 | 313.101 | 88.2466 |\n",
       "| 0.05 | 2.28729e+89  | 1.7827e+57  | 2.53223e+12 | 302.775 | 86.9349 |"
      ],
      "text/plain": [
       "<IPython.core.display.Markdown object>"
      ]
     },
     "execution_count": 19,
     "metadata": {},
     "output_type": "execute_result"
    }
   ],
   "source": [
    "#| label: tbl-firmsdk\n",
    "#| echo: false\n",
    "generate_markdown('FirmsDK')"
   ]
  },
  {
   "cell_type": "code",
   "execution_count": 20,
   "id": "3537cbfb9862deb7",
   "metadata": {
    "ExecuteTime": {
     "end_time": "2024-04-20T22:07:08.019560Z",
     "start_time": "2024-04-20T22:07:07.982612Z"
    }
   },
   "outputs": [
    {
     "data": {
      "text/markdown": [
       "$\\begin{matrix} & \\eta \\\\ \\beta & \\end{matrix}$      |       0.0001 |         0.1 |         0.3 |     0.5 |     0.8 |\n",
       "|-----:|-------------:|------------:|------------:|--------:|--------:|\n",
       "| 0.02 | 7.11595e+98  | 2.37927e+56 | 2.80383e+17 | 54.5997 | 6.65564 |\n",
       "| 0.03 | 2.73175e+106 | 1.32828e+53 | 1.11153e+15 | 54.5483 | 6.74662 |\n",
       "| 0.04 | 6.96145e+104 | 3.28936e+53 | 3.43071e+14 | 50.4596 | 6.62587 |\n",
       "| 0.05 | 8.50956e+90  | 5.51575e+58 | 5.1365e+13  | 48.6279 | 6.79378 |"
      ],
      "text/plain": [
       "<IPython.core.display.Markdown object>"
      ]
     },
     "execution_count": 20,
     "metadata": {},
     "output_type": "execute_result"
    }
   ],
   "source": [
    "#| echo: false\n",
    "generate_markdown('FirmsDK_std')"
   ]
  },
  {
   "cell_type": "markdown",
   "id": "242fb48651baaa16",
   "metadata": {
    "collapsed": false
   },
   "source": [
    "{{< pagebreak >}}\n",
    "## Firms OL"
   ]
  },
  {
   "cell_type": "code",
   "execution_count": 21,
   "id": "907f586faac0dab2",
   "metadata": {
    "ExecuteTime": {
     "end_time": "2024-04-20T22:07:08.249855Z",
     "start_time": "2024-04-20T22:07:08.206814Z"
    }
   },
   "outputs": [
    {
     "data": {
      "text/markdown": [
       "$\\begin{matrix} & \\eta \\\\ \\beta & \\end{matrix}$      |       0.0001 |         0.1 |         0.3 |     0.5 |     0.8 |\n",
       "|-----:|-------------:|------------:|------------:|--------:|--------:|\n",
       "| 0.02 | 9.6643e+96   | 3.36768e+56 | 4.0845e+16  | 11980   | 3601.33 |\n",
       "| 0.03 | 2.54973e+105 | 1.65087e+53 | 2.18169e+14 | 12273.5 | 3498.28 |\n",
       "| 0.04 | 4.76086e+103 | 1.25822e+53 | 6.74545e+13 | 12022.6 | 3418.4  |\n",
       "| 0.05 | 4.4168e+90   | 1.56728e+58 | 3.52639e+13 | 11739.9 | 3318.44 |"
      ],
      "text/plain": [
       "<IPython.core.display.Markdown object>"
      ]
     },
     "execution_count": 21,
     "metadata": {},
     "output_type": "execute_result"
    }
   ],
   "source": [
    "#| label: tbl-ol\n",
    "#| echo: false\n",
    "generate_markdown('FirmsOL')"
   ]
  },
  {
   "cell_type": "code",
   "execution_count": 22,
   "id": "e2eb93877d3e805",
   "metadata": {
    "ExecuteTime": {
     "end_time": "2024-04-20T22:07:08.405725Z",
     "start_time": "2024-04-20T22:07:08.364880Z"
    }
   },
   "outputs": [
    {
     "data": {
      "text/markdown": [
       "$\\begin{matrix} & \\eta \\\\ \\beta & \\end{matrix}$      |       0.0001 |         0.1 |         0.3 |     0.5 |     0.8 |\n",
       "|-----:|-------------:|------------:|------------:|--------:|--------:|\n",
       "| 0.02 | 2.73733e+98  | 1.35738e+57 | 5.45794e+17 | 6980.77 | 2086.09 |\n",
       "| 0.03 | 3.69853e+106 | 6.69482e+53 | 1.14006e+15 | 7157.36 | 2031.65 |\n",
       "| 0.04 | 8.7544e+104  | 9.93806e+53 | 6.79127e+14 | 6953.75 | 1976.66 |\n",
       "| 0.05 | 2.60788e+91  | 1.61922e+59 | 2.09979e+14 | 6764.89 | 1933.13 |"
      ],
      "text/plain": [
       "<IPython.core.display.Markdown object>"
      ]
     },
     "execution_count": 22,
     "metadata": {},
     "output_type": "execute_result"
    }
   ],
   "source": [
    "#| echo: false\n",
    "generate_markdown('FirmsOL_std')"
   ]
  },
  {
   "cell_type": "markdown",
   "id": "c4fea3be9743e325",
   "metadata": {
    "collapsed": false
   },
   "source": [
    "{{< pagebreak >}}\n",
    "## Firms GAP_OF_L"
   ]
  },
  {
   "cell_type": "code",
   "execution_count": 23,
   "id": "5a8a9c080e98c5ef",
   "metadata": {
    "ExecuteTime": {
     "end_time": "2024-04-20T22:07:08.541128Z",
     "start_time": "2024-04-20T22:07:08.511560Z"
    }
   },
   "outputs": [
    {
     "data": {
      "text/markdown": [
       "$\\begin{matrix} & \\eta \\\\ \\beta & \\end{matrix}$      |      0.0001 |         0.1 |        0.3 |         0.5 |         0.8 |\n",
       "|-----:|------------:|------------:|-----------:|------------:|------------:|\n",
       "| 0.02 | 1.42362e+23 | 2.03533e+13 | 0.0434089  | 0.000143454 | 6.65903e-05 |\n",
       "| 0.03 | 2.45913e+18 | 5.26406e+12 | 0.00146815 | 0.000330591 | 3.73585e-06 |\n",
       "| 0.04 | 4.76194e+36 | 3.86949e+09 | 0.00136314 | 8.15628e-05 | 0.000270041 |\n",
       "| 0.05 | 9.34219e+21 | 2.39528e+09 | 1.41405    | 1.6308e-05  | 0.000220621 |"
      ],
      "text/plain": [
       "<IPython.core.display.Markdown object>"
      ]
     },
     "execution_count": 23,
     "metadata": {},
     "output_type": "execute_result"
    }
   ],
   "source": [
    "#| label: tbl-gapofl\n",
    "#| echo: false\n",
    "generate_markdown('FirmsGAP_OF_L')"
   ]
  },
  {
   "cell_type": "code",
   "execution_count": 24,
   "id": "9aae0e8f835fe264",
   "metadata": {
    "ExecuteTime": {
     "end_time": "2024-04-20T22:07:08.662665Z",
     "start_time": "2024-04-20T22:07:08.640392Z"
    }
   },
   "outputs": [
    {
     "data": {
      "text/markdown": [
       "$\\begin{matrix} & \\eta \\\\ \\beta & \\end{matrix}$      |      0.0001 |         0.1 |         0.3 |        0.5 |         0.8 |\n",
       "|-----:|------------:|------------:|------------:|-----------:|------------:|\n",
       "| 0.02 | 1.41493e+25 | 2.03532e+15 |   4.21838   | 0.0109198  | 0.00493967  |\n",
       "| 0.03 | 2.45673e+20 | 5.26395e+14 |   0.133154  | 0.0235168  | 0.000373585 |\n",
       "| 0.04 | 4.76194e+38 | 3.86908e+11 |   0.0962478 | 0.00815628 | 0.0147353   |\n",
       "| 0.05 | 8.8559e+23  | 2.39523e+11 | 139.51      | 0.0016308  | 0.0107705   |"
      ],
      "text/plain": [
       "<IPython.core.display.Markdown object>"
      ]
     },
     "execution_count": 24,
     "metadata": {},
     "output_type": "execute_result"
    }
   ],
   "source": [
    "#| echo: false\n",
    "generate_markdown('FirmsGAP_OF_L_std')"
   ]
  },
  {
   "cell_type": "markdown",
   "id": "4508610c80a80f9d",
   "metadata": {
    "collapsed": false
   },
   "source": [
    "{{< pagebreak >}}\n",
    "## Firms DL"
   ]
  },
  {
   "cell_type": "code",
   "execution_count": 25,
   "id": "cf857e316914efe0",
   "metadata": {
    "ExecuteTime": {
     "end_time": "2024-04-20T22:07:08.882287Z",
     "start_time": "2024-04-20T22:07:08.848621Z"
    }
   },
   "outputs": [
    {
     "data": {
      "text/markdown": [
       "$\\begin{matrix} & \\eta \\\\ \\beta & \\end{matrix}$      |        0.0001 |          0.1 |          0.3 |      0.5 |       0.8 |\n",
       "|-----:|--------------:|-------------:|-------------:|---------:|----------:|\n",
       "| 0.02 | -1.09382e+95  | -4.48815e+52 | -4.4236e+13  | -1.47166 | -0.531465 |\n",
       "| 0.03 | -2.83537e+102 | -1.79662e+49 | -2.00629e+11 | -1.49022 | -0.529024 |\n",
       "| 0.04 | -9.2718e+100  | -3.86669e+49 | -6.30549e+10 | -1.45648 | -0.527594 |\n",
       "| 0.05 | -1.309e+87    | -1.00539e+55 | -1.09103e+10 | -1.42939 | -0.527811 |"
      ],
      "text/plain": [
       "<IPython.core.display.Markdown object>"
      ]
     },
     "execution_count": 25,
     "metadata": {},
     "output_type": "execute_result"
    }
   ],
   "source": [
    "#| label: tbl-firmsdl\n",
    "#| echo: false\n",
    "generate_markdown('FirmsDL')"
   ]
  },
  {
   "cell_type": "code",
   "execution_count": 26,
   "id": "17baead25afd2893",
   "metadata": {
    "ExecuteTime": {
     "end_time": "2024-04-20T22:07:08.928335Z",
     "start_time": "2024-04-20T22:07:08.896307Z"
    }
   },
   "outputs": [
    {
     "data": {
      "text/markdown": [
       "$\\begin{matrix} & \\eta \\\\ \\beta & \\end{matrix}$      |       0.0001 |         0.1 |         0.3 |      0.5 |       0.8 |\n",
       "|-----:|-------------:|------------:|------------:|---------:|----------:|\n",
       "| 0.02 | 6.09083e+96  | 2.74743e+54 | 2.51791e+15 | 0.447323 | 0.0862611 |\n",
       "| 0.03 | 2.71532e+104 | 1.15653e+51 | 1.08129e+13 | 0.448558 | 0.0865587 |\n",
       "| 0.04 | 8.65853e+102 | 3.72254e+51 | 2.7421e+12  | 0.415569 | 0.0839304 |\n",
       "| 0.05 | 9.3699e+88   | 5.81446e+56 | 4.20546e+11 | 0.407927 | 0.0851786 |"
      ],
      "text/plain": [
       "<IPython.core.display.Markdown object>"
      ]
     },
     "execution_count": 26,
     "metadata": {},
     "output_type": "execute_result"
    }
   ],
   "source": [
    "#| echo: false\n",
    "generate_markdown('FirmsDL_std')"
   ]
  },
  {
   "cell_type": "markdown",
   "id": "40b2b0ebd1c5ec0",
   "metadata": {
    "collapsed": false
   },
   "source": [
    "{{< pagebreak >}}\n",
    "## Firms FAIL"
   ]
  },
  {
   "cell_type": "code",
   "execution_count": 27,
   "id": "845d67270a6a6f06",
   "metadata": {
    "ExecuteTime": {
     "end_time": "2024-04-20T22:07:09.051365Z",
     "start_time": "2024-04-20T22:07:09.028527Z"
    }
   },
   "outputs": [
    {
     "data": {
      "text/markdown": [
       "$\\begin{matrix} & \\eta \\\\ \\beta & \\end{matrix}$      |   0.0001 |    0.1 |    0.3 |    0.5 |     0.8 |\n",
       "|-----:|---------:|-------:|-------:|-------:|--------:|\n",
       "| 0.02 |   1.4765 | 1.7771 | 4.2909 | 6.2358 | 12.7573 |\n",
       "| 0.03 |   1.4875 | 1.8642 | 4.5515 | 6.5931 | 14.0245 |\n",
       "| 0.04 |   1.6    | 1.9503 | 4.7906 | 6.9864 | 15.1324 |\n",
       "| 0.05 |   1.6503 | 2.041  | 5.097  | 7.4705 | 16.3178 |"
      ],
      "text/plain": [
       "<IPython.core.display.Markdown object>"
      ]
     },
     "execution_count": 27,
     "metadata": {},
     "output_type": "execute_result"
    }
   ],
   "source": [
    "#| label: tbl-fails\n",
    "#| echo: false\n",
    "generate_markdown('FirmsFAIL')"
   ]
  },
  {
   "cell_type": "code",
   "execution_count": 28,
   "id": "3809cd3a0df060f1",
   "metadata": {
    "ExecuteTime": {
     "end_time": "2024-04-20T22:07:09.206611Z",
     "start_time": "2024-04-20T22:07:09.186Z"
    }
   },
   "outputs": [
    {
     "data": {
      "text/markdown": [
       "$\\begin{matrix} & \\eta \\\\ \\beta & \\end{matrix}$      |   0.0001 |     0.1 |     0.3 |     0.5 |     0.8 |\n",
       "|-----:|---------:|--------:|--------:|--------:|--------:|\n",
       "| 0.02 |  1.21934 | 1.32446 | 2.219   | 2.67786 | 4.1419  |\n",
       "| 0.03 |  1.21449 | 1.37308 | 2.25003 | 2.68586 | 4.30766 |\n",
       "| 0.04 |  1.24778 | 1.38507 | 2.29858 | 2.80667 | 4.38748 |\n",
       "| 0.05 |  1.28046 | 1.4263  | 2.38142 | 2.82841 | 4.58645 |"
      ],
      "text/plain": [
       "<IPython.core.display.Markdown object>"
      ]
     },
     "execution_count": 28,
     "metadata": {},
     "output_type": "execute_result"
    }
   ],
   "source": [
    "#| echo: false\n",
    "generate_markdown('FirmsFAIL_std')"
   ]
  },
  {
   "cell_type": "markdown",
   "id": "13245051a5026a9d",
   "metadata": {
    "collapsed": false
   },
   "source": [
    "{{< pagebreak >}}\n",
    "## Bank L"
   ]
  },
  {
   "cell_type": "code",
   "execution_count": 29,
   "id": "7538549a38a15af2",
   "metadata": {
    "ExecuteTime": {
     "end_time": "2024-04-20T22:07:09.268734Z",
     "start_time": "2024-04-20T22:07:09.245180Z"
    }
   },
   "outputs": [
    {
     "data": {
      "text/markdown": [
       "$\\begin{matrix} & \\eta \\\\ \\beta & \\end{matrix}$      |       0.0001 |         0.1 |         0.3 |         0.5 |    0.8 |\n",
       "|-----:|-------------:|------------:|------------:|------------:|-------:|\n",
       "| 0.02 | 1.12799e+99  | 3.37617e+58 | 4.16297e+18 | 1.20051e+06 | 360884 |\n",
       "| 0.03 | 2.60483e+107 | 1.65377e+55 | 2.19951e+16 | 1.2299e+06  | 350557 |\n",
       "| 0.04 | 4.93107e+105 | 1.26627e+55 | 6.85086e+15 | 1.20476e+06 | 342552 |\n",
       "| 0.05 | 4.44342e+92  | 1.58516e+60 | 3.54445e+15 | 1.17644e+06 | 332534 |"
      ],
      "text/plain": [
       "<IPython.core.display.Markdown object>"
      ]
     },
     "execution_count": 29,
     "metadata": {},
     "output_type": "execute_result"
    }
   ],
   "source": [
    "#| label: tbl-bankl\n",
    "#| echo: false\n",
    "generate_markdown('BankL')"
   ]
  },
  {
   "cell_type": "code",
   "execution_count": 30,
   "id": "433aa006747b473f",
   "metadata": {
    "ExecuteTime": {
     "end_time": "2024-04-20T22:07:09.408378Z",
     "start_time": "2024-04-20T22:07:09.368235Z"
    }
   },
   "outputs": [
    {
     "data": {
      "text/markdown": [
       "$\\begin{matrix} & \\eta \\\\ \\beta & \\end{matrix}$      |       0.0001 |         0.1 |         0.3 |    0.5 |    0.8 |\n",
       "|-----:|-------------:|------------:|------------:|-------:|-------:|\n",
       "| 0.02 | 3.17806e+100 | 1.359e+59   | 5.51341e+19 | 698128 | 208625 |\n",
       "| 0.03 | 3.73897e+108 | 6.70036e+55 | 1.1502e+17  | 715754 | 203179 |\n",
       "| 0.04 | 8.91742e+106 | 9.96959e+55 | 6.86635e+16 | 695391 | 197679 |\n",
       "| 0.05 | 2.6153e+93   | 1.62889e+61 | 2.10587e+16 | 676522 | 193321 |"
      ],
      "text/plain": [
       "<IPython.core.display.Markdown object>"
      ]
     },
     "execution_count": 30,
     "metadata": {},
     "output_type": "execute_result"
    }
   ],
   "source": [
    "#| echo: false\n",
    "generate_markdown('BankL_std')"
   ]
  },
  {
   "cell_type": "markdown",
   "id": "311f125c6d973c57",
   "metadata": {
    "collapsed": false
   },
   "source": [
    "{{< pagebreak >}}\n",
    "## Bank A"
   ]
  },
  {
   "cell_type": "code",
   "execution_count": 31,
   "id": "cfbeacd8f433916a",
   "metadata": {
    "ExecuteTime": {
     "end_time": "2024-04-20T22:07:09.671180Z",
     "start_time": "2024-04-20T22:07:09.609173Z"
    }
   },
   "outputs": [
    {
     "data": {
      "text/markdown": [
       "$\\begin{matrix} & \\eta \\\\ \\beta & \\end{matrix}$      |   0.0001 |     0.1 |     0.3 |     0.5 |     0.8 |\n",
       "|-----:|---------:|--------:|--------:|--------:|--------:|\n",
       "| 0.02 |  122.721 | 86.3737 | 28.5924 | 11.1633 | 9.97664 |\n",
       "| 0.03 |  126.517 | 83.8496 | 28.5703 | 11.186  | 9.94304 |\n",
       "| 0.04 |  117.762 | 81.9896 | 26.8241 | 11.1707 | 9.92078 |\n",
       "| 0.05 |  115.37  | 78.4918 | 25.3343 | 11.1526 | 9.88442 |"
      ],
      "text/plain": [
       "<IPython.core.display.Markdown object>"
      ]
     },
     "execution_count": 31,
     "metadata": {},
     "output_type": "execute_result"
    }
   ],
   "source": [
    "#| label: tbl-banka\n",
    "#| echo: false\n",
    "generate_markdown('BankA')"
   ]
  },
  {
   "cell_type": "code",
   "execution_count": 32,
   "id": "fd6ce9c8b0eb9e7c",
   "metadata": {
    "ExecuteTime": {
     "end_time": "2024-04-20T22:07:09.883757Z",
     "start_time": "2024-04-20T22:07:09.815246Z"
    }
   },
   "outputs": [
    {
     "data": {
      "text/markdown": [
       "$\\begin{matrix} & \\eta \\\\ \\beta & \\end{matrix}$      |   0.0001 |     0.1 |     0.3 |      0.5 |      0.8 |\n",
       "|-----:|---------:|--------:|--------:|---------:|---------:|\n",
       "| 0.02 |  50.7046 | 32.529  | 6.98442 | 0.992757 | 0.944219 |\n",
       "| 0.03 |  53.615  | 29.8117 | 6.47226 | 0.994171 | 0.956366 |\n",
       "| 0.04 |  49.0415 | 28.6506 | 6.04711 | 0.987172 | 0.956117 |\n",
       "| 0.05 |  48.4048 | 29.1331 | 6.00239 | 0.974139 | 0.967542 |"
      ],
      "text/plain": [
       "<IPython.core.display.Markdown object>"
      ]
     },
     "execution_count": 32,
     "metadata": {},
     "output_type": "execute_result"
    }
   ],
   "source": [
    "#| echo: false\n",
    "generate_markdown('BankA_std')"
   ]
  },
  {
   "cell_type": "markdown",
   "id": "a2a3798e063fb600",
   "metadata": {
    "collapsed": false
   },
   "source": [
    "{{< pagebreak >}}\n",
    "## Bank D"
   ]
  },
  {
   "cell_type": "code",
   "execution_count": 33,
   "id": "c4b05aa17b0c5959",
   "metadata": {
    "ExecuteTime": {
     "end_time": "2024-04-20T22:07:10.409297Z",
     "start_time": "2024-04-20T22:07:10.344592Z"
    }
   },
   "outputs": [
    {
     "data": {
      "text/markdown": [
       "$\\begin{matrix} & \\eta \\\\ \\beta & \\end{matrix}$      |       0.0001 |         0.1 |         0.3 |         0.5 |    0.8 |\n",
       "|-----:|-------------:|------------:|------------:|------------:|-------:|\n",
       "| 0.02 | 1.03775e+99  | 3.10608e+58 | 3.82993e+18 | 1.10447e+06 | 332014 |\n",
       "| 0.03 | 2.39644e+107 | 1.52147e+55 | 2.02355e+16 | 1.13151e+06 | 322513 |\n",
       "| 0.04 | 4.53658e+105 | 1.16497e+55 | 6.3028e+15  | 1.10838e+06 | 315148 |\n",
       "| 0.05 | 4.08794e+92  | 1.45835e+60 | 3.2609e+15  | 1.08233e+06 | 305931 |"
      ],
      "text/plain": [
       "<IPython.core.display.Markdown object>"
      ]
     },
     "execution_count": 33,
     "metadata": {},
     "output_type": "execute_result"
    }
   ],
   "source": [
    "#| label: tbl-bankd\n",
    "#| echo: false\n",
    "generate_markdown('BankD')"
   ]
  },
  {
   "cell_type": "code",
   "execution_count": 34,
   "id": "bc58634d4dfa578a",
   "metadata": {
    "ExecuteTime": {
     "end_time": "2024-04-20T22:07:10.735853Z",
     "start_time": "2024-04-20T22:07:10.678918Z"
    }
   },
   "outputs": [
    {
     "data": {
      "text/markdown": [
       "$\\begin{matrix} & \\eta \\\\ \\beta & \\end{matrix}$      |       0.0001 |         0.1 |         0.3 |    0.5 |    0.8 |\n",
       "|-----:|-------------:|------------:|------------:|-------:|-------:|\n",
       "| 0.02 | 2.92381e+100 | 1.25028e+59 | 5.07234e+19 | 642277 | 191935 |\n",
       "| 0.03 | 3.43985e+108 | 6.16433e+55 | 1.05818e+17 | 658494 | 186924 |\n",
       "| 0.04 | 8.20403e+106 | 9.17202e+55 | 6.31704e+16 | 639759 | 181865 |\n",
       "| 0.05 | 2.40608e+93  | 1.49858e+61 | 1.9374e+16  | 622400 | 177856 |"
      ],
      "text/plain": [
       "<IPython.core.display.Markdown object>"
      ]
     },
     "execution_count": 34,
     "metadata": {},
     "output_type": "execute_result"
    }
   ],
   "source": [
    "#| echo: false\n",
    "generate_markdown('BankD_std')"
   ]
  },
  {
   "cell_type": "markdown",
   "id": "18ede07ce7ca92c4",
   "metadata": {
    "collapsed": false
   },
   "source": [
    "{{< pagebreak >}}\n",
    "## Bank PROFITS"
   ]
  },
  {
   "cell_type": "code",
   "execution_count": 35,
   "id": "97a2161fd77a0c1e",
   "metadata": {
    "ExecuteTime": {
     "end_time": "2024-04-20T22:07:10.913634Z",
     "start_time": "2024-04-20T22:07:10.882622Z"
    }
   },
   "outputs": [
    {
     "data": {
      "text/markdown": [
       "$\\begin{matrix} & \\eta \\\\ \\beta & \\end{matrix}$      |        0.0001 |          0.1 |          0.3 |      0.5 |      0.8 |\n",
       "|-----:|--------------:|-------------:|-------------:|---------:|---------:|\n",
       "| 0.02 | -2.67593e+95  | -1.42778e+53 | -5.34114e+14 | -5.08025 | -1.13592 |\n",
       "| 0.03 | -9.25593e+102 | -5.90469e+49 | -1.18928e+13 | -5.88847 | -1.83721 |\n",
       "| 0.04 | -3.55441e+101 | -2.9393e+50  | -3.2581e+11  | -6.32351 | -1.78055 |\n",
       "| 0.05 |  5.61842e+87  | -2.01196e+55 | -1.10495e+11 | -6.76742 | -2.28245 |"
      ],
      "text/plain": [
       "<IPython.core.display.Markdown object>"
      ]
     },
     "execution_count": 35,
     "metadata": {},
     "output_type": "execute_result"
    }
   ],
   "source": [
    "#| label: tbl-bankprofits\n",
    "#| echo: false\n",
    "generate_markdown('BankPROFITS')"
   ]
  },
  {
   "cell_type": "code",
   "execution_count": 36,
   "id": "ce414ee948c4e69f",
   "metadata": {
    "ExecuteTime": {
     "end_time": "2024-04-20T22:07:11.030247Z",
     "start_time": "2024-04-20T22:07:11.000815Z"
    }
   },
   "outputs": [
    {
     "data": {
      "text/markdown": [
       "$\\begin{matrix} & \\eta \\\\ \\beta & \\end{matrix}$      |       0.0001 |         0.1 |         0.3 |      0.5 |     0.8 |\n",
       "|-----:|-------------:|------------:|------------:|---------:|--------:|\n",
       "| 0.02 | 1.19903e+97  | 4.93727e+54 | 3.71447e+16 |  54.3073 | 27.0045 |\n",
       "| 0.03 | 5.24244e+104 | 2.77724e+51 | 1.13765e+15 | 116.403  | 53.6799 |\n",
       "| 0.04 | 1.87892e+103 | 2.48143e+52 | 1.08466e+13 | 158.756  | 15.5012 |\n",
       "| 0.05 | 9.7422e+89   | 1.98512e+57 | 6.20163e+12 |  82.9718 | 25.6848 |"
      ],
      "text/plain": [
       "<IPython.core.display.Markdown object>"
      ]
     },
     "execution_count": 36,
     "metadata": {},
     "output_type": "execute_result"
    }
   ],
   "source": [
    "#| label: tbl-bankprofitsstd\n",
    "#| echo: false\n",
    "generate_markdown('BankPROFITS_std')"
   ]
  },
  {
   "cell_type": "markdown",
   "id": "d2cd3dd1ab7d359a",
   "metadata": {
    "collapsed": false
   },
   "source": [
    "{{< pagebreak >}}\n",
    "## Bank BD"
   ]
  },
  {
   "cell_type": "code",
   "execution_count": 37,
   "id": "604a2ba6d37d8853",
   "metadata": {
    "ExecuteTime": {
     "end_time": "2024-04-20T22:07:11.216262Z",
     "start_time": "2024-04-20T22:07:11.181750Z"
    }
   },
   "outputs": [
    {
     "data": {
      "text/markdown": [
       "$\\begin{matrix} & \\eta \\\\ \\beta & \\end{matrix}$      |   0.0001 |   0.1 |   0.3 |   0.5 |     0.8 |\n",
       "|-----:|---------:|------:|------:|------:|--------:|\n",
       "| 0.02 |     -inf |  -inf |  -inf |  -inf | 2.42651 |\n",
       "| 0.03 |     -inf |  -inf |  -inf |  -inf | 2.56326 |\n",
       "| 0.04 |     -inf |  -inf |  -inf |  -inf | 2.67084 |\n",
       "| 0.05 |     -inf |  -inf |  -inf |  -inf | 2.78521 |"
      ],
      "text/plain": [
       "<IPython.core.display.Markdown object>"
      ]
     },
     "execution_count": 37,
     "metadata": {},
     "output_type": "execute_result"
    }
   ],
   "source": [
    "#| label: tbl-bankbd\n",
    "#| echo: false\n",
    "generate_markdown('BankBD')"
   ]
  },
  {
   "cell_type": "code",
   "execution_count": 115,
   "id": "bacc4d7f5277fabf",
   "metadata": {
    "ExecuteTime": {
     "end_time": "2024-04-21T16:21:42.372315Z",
     "start_time": "2024-04-21T16:21:41.592962Z"
    }
   },
   "outputs": [
    {
     "ename": "FileNotFoundError",
     "evalue": "[Errno 2] No such file or directory: '..\\\\experiments\\\\tablesa\\\\BankBD_std.pickle'",
     "output_type": "error",
     "traceback": [
      "\u001B[1;31m---------------------------------------------------------------------------\u001B[0m",
      "\u001B[1;31mFileNotFoundError\u001B[0m                         Traceback (most recent call last)",
      "Cell \u001B[1;32mIn[115], line 3\u001B[0m\n\u001B[0;32m      1\u001B[0m \u001B[38;5;66;03m#| label: tbl-bankbdSTD\u001B[39;00m\n\u001B[0;32m      2\u001B[0m \u001B[38;5;66;03m#| echo: false\u001B[39;00m\n\u001B[1;32m----> 3\u001B[0m \u001B[43mgenerate_markdown\u001B[49m\u001B[43m(\u001B[49m\u001B[38;5;124;43m'\u001B[39;49m\u001B[38;5;124;43mBankBD_std\u001B[39;49m\u001B[38;5;124;43m'\u001B[39;49m\u001B[43m)\u001B[49m\n",
      "Cell \u001B[1;32mIn[77], line 10\u001B[0m, in \u001B[0;36mgenerate_markdown\u001B[1;34m(origin)\u001B[0m\n\u001B[0;32m      9\u001B[0m \u001B[38;5;28;01mdef\u001B[39;00m \u001B[38;5;21mgenerate_markdown\u001B[39m(origin):\n\u001B[1;32m---> 10\u001B[0m     data_frame \u001B[38;5;241m=\u001B[39m \u001B[43mrecover_data\u001B[49m\u001B[43m(\u001B[49m\u001B[43morigin\u001B[49m\u001B[43m)\u001B[49m\n\u001B[0;32m     11\u001B[0m     \u001B[38;5;28;01mreturn\u001B[39;00m Markdown(\u001B[38;5;124m'\u001B[39m\u001B[38;5;124m$\u001B[39m\u001B[38;5;130;01m\\\\\u001B[39;00m\u001B[38;5;124mbegin\u001B[39m\u001B[38;5;132;01m{matrix}\u001B[39;00m\u001B[38;5;124m & \u001B[39m\u001B[38;5;130;01m\\\\\u001B[39;00m\u001B[38;5;124meta \u001B[39m\u001B[38;5;130;01m\\\\\u001B[39;00m\u001B[38;5;130;01m\\\\\u001B[39;00m\u001B[38;5;124m \u001B[39m\u001B[38;5;130;01m\\\\\u001B[39;00m\u001B[38;5;124mbeta & \u001B[39m\u001B[38;5;130;01m\\\\\u001B[39;00m\u001B[38;5;124mend\u001B[39m\u001B[38;5;132;01m{matrix}\u001B[39;00m\u001B[38;5;124m$\u001B[39m\u001B[38;5;124m'\u001B[39m\u001B[38;5;241m+\u001B[39mdata_frame\u001B[38;5;241m.\u001B[39mto_markdown()[\u001B[38;5;241m1\u001B[39m:])\n",
      "Cell \u001B[1;32mIn[77], line 7\u001B[0m, in \u001B[0;36mrecover_data\u001B[1;34m(origin)\u001B[0m\n\u001B[0;32m      6\u001B[0m \u001B[38;5;28;01mdef\u001B[39;00m \u001B[38;5;21mrecover_data\u001B[39m(origin):\n\u001B[1;32m----> 7\u001B[0m     \u001B[38;5;28;01mreturn\u001B[39;00m \u001B[43mpd\u001B[49m\u001B[38;5;241;43m.\u001B[39;49m\u001B[43mread_pickle\u001B[49m\u001B[43m(\u001B[49m\u001B[38;5;124;43mf\u001B[39;49m\u001B[38;5;124;43m\"\u001B[39;49m\u001B[38;5;132;43;01m{\u001B[39;49;00m\u001B[43mpath_to_data\u001B[49m\u001B[38;5;132;43;01m}\u001B[39;49;00m\u001B[38;5;132;43;01m{\u001B[39;49;00m\u001B[43morigin\u001B[49m\u001B[38;5;132;43;01m}\u001B[39;49;00m\u001B[38;5;124;43m.pickle\u001B[39;49m\u001B[38;5;124;43m\"\u001B[39;49m\u001B[43m)\u001B[49m\n",
      "File \u001B[1;32m~\\AppData\\Local\\Packages\\PythonSoftwareFoundation.Python.3.10_qbz5n2kfra8p0\\LocalCache\\local-packages\\Python310\\site-packages\\pandas\\io\\pickle.py:190\u001B[0m, in \u001B[0;36mread_pickle\u001B[1;34m(filepath_or_buffer, compression, storage_options)\u001B[0m\n\u001B[0;32m    124\u001B[0m \u001B[38;5;250m\u001B[39m\u001B[38;5;124;03m\"\"\"\u001B[39;00m\n\u001B[0;32m    125\u001B[0m \u001B[38;5;124;03mLoad pickled pandas object (or any object) from file.\u001B[39;00m\n\u001B[0;32m    126\u001B[0m \n\u001B[1;32m   (...)\u001B[0m\n\u001B[0;32m    187\u001B[0m \u001B[38;5;124;03m4    4    9\u001B[39;00m\n\u001B[0;32m    188\u001B[0m \u001B[38;5;124;03m\"\"\"\u001B[39;00m\n\u001B[0;32m    189\u001B[0m excs_to_catch \u001B[38;5;241m=\u001B[39m (\u001B[38;5;167;01mAttributeError\u001B[39;00m, \u001B[38;5;167;01mImportError\u001B[39;00m, \u001B[38;5;167;01mModuleNotFoundError\u001B[39;00m, \u001B[38;5;167;01mTypeError\u001B[39;00m)\n\u001B[1;32m--> 190\u001B[0m \u001B[38;5;28;01mwith\u001B[39;00m \u001B[43mget_handle\u001B[49m\u001B[43m(\u001B[49m\n\u001B[0;32m    191\u001B[0m \u001B[43m    \u001B[49m\u001B[43mfilepath_or_buffer\u001B[49m\u001B[43m,\u001B[49m\n\u001B[0;32m    192\u001B[0m \u001B[43m    \u001B[49m\u001B[38;5;124;43m\"\u001B[39;49m\u001B[38;5;124;43mrb\u001B[39;49m\u001B[38;5;124;43m\"\u001B[39;49m\u001B[43m,\u001B[49m\n\u001B[0;32m    193\u001B[0m \u001B[43m    \u001B[49m\u001B[43mcompression\u001B[49m\u001B[38;5;241;43m=\u001B[39;49m\u001B[43mcompression\u001B[49m\u001B[43m,\u001B[49m\n\u001B[0;32m    194\u001B[0m \u001B[43m    \u001B[49m\u001B[43mis_text\u001B[49m\u001B[38;5;241;43m=\u001B[39;49m\u001B[38;5;28;43;01mFalse\u001B[39;49;00m\u001B[43m,\u001B[49m\n\u001B[0;32m    195\u001B[0m \u001B[43m    \u001B[49m\u001B[43mstorage_options\u001B[49m\u001B[38;5;241;43m=\u001B[39;49m\u001B[43mstorage_options\u001B[49m\u001B[43m,\u001B[49m\n\u001B[0;32m    196\u001B[0m \u001B[43m\u001B[49m\u001B[43m)\u001B[49m \u001B[38;5;28;01mas\u001B[39;00m handles:\n\u001B[0;32m    197\u001B[0m \n\u001B[0;32m    198\u001B[0m     \u001B[38;5;66;03m# 1) try standard library Pickle\u001B[39;00m\n\u001B[0;32m    199\u001B[0m     \u001B[38;5;66;03m# 2) try pickle_compat (older pandas version) to handle subclass changes\u001B[39;00m\n\u001B[0;32m    200\u001B[0m     \u001B[38;5;66;03m# 3) try pickle_compat with latin-1 encoding upon a UnicodeDecodeError\u001B[39;00m\n\u001B[0;32m    202\u001B[0m     \u001B[38;5;28;01mtry\u001B[39;00m:\n\u001B[0;32m    203\u001B[0m         \u001B[38;5;66;03m# TypeError for Cython complaints about object.__new__ vs Tick.__new__\u001B[39;00m\n\u001B[0;32m    204\u001B[0m         \u001B[38;5;28;01mtry\u001B[39;00m:\n",
      "File \u001B[1;32m~\\AppData\\Local\\Packages\\PythonSoftwareFoundation.Python.3.10_qbz5n2kfra8p0\\LocalCache\\local-packages\\Python310\\site-packages\\pandas\\io\\common.py:865\u001B[0m, in \u001B[0;36mget_handle\u001B[1;34m(path_or_buf, mode, encoding, compression, memory_map, is_text, errors, storage_options)\u001B[0m\n\u001B[0;32m    856\u001B[0m         handle \u001B[38;5;241m=\u001B[39m \u001B[38;5;28mopen\u001B[39m(\n\u001B[0;32m    857\u001B[0m             handle,\n\u001B[0;32m    858\u001B[0m             ioargs\u001B[38;5;241m.\u001B[39mmode,\n\u001B[1;32m   (...)\u001B[0m\n\u001B[0;32m    861\u001B[0m             newline\u001B[38;5;241m=\u001B[39m\u001B[38;5;124m\"\u001B[39m\u001B[38;5;124m\"\u001B[39m,\n\u001B[0;32m    862\u001B[0m         )\n\u001B[0;32m    863\u001B[0m     \u001B[38;5;28;01melse\u001B[39;00m:\n\u001B[0;32m    864\u001B[0m         \u001B[38;5;66;03m# Binary mode\u001B[39;00m\n\u001B[1;32m--> 865\u001B[0m         handle \u001B[38;5;241m=\u001B[39m \u001B[38;5;28;43mopen\u001B[39;49m\u001B[43m(\u001B[49m\u001B[43mhandle\u001B[49m\u001B[43m,\u001B[49m\u001B[43m \u001B[49m\u001B[43mioargs\u001B[49m\u001B[38;5;241;43m.\u001B[39;49m\u001B[43mmode\u001B[49m\u001B[43m)\u001B[49m\n\u001B[0;32m    866\u001B[0m     handles\u001B[38;5;241m.\u001B[39mappend(handle)\n\u001B[0;32m    868\u001B[0m \u001B[38;5;66;03m# Convert BytesIO or file objects passed with an encoding\u001B[39;00m\n",
      "\u001B[1;31mFileNotFoundError\u001B[0m: [Errno 2] No such file or directory: '..\\\\experiments\\\\tablesa\\\\BankBD_std.pickle'"
     ]
    }
   ],
   "source": [
    "#| label: tbl-bankbdSTD\n",
    "#| echo: false\n",
    "generate_markdown('BankBD_std')"
   ]
  },
  {
   "cell_type": "code",
   "outputs": [],
   "source": [
    "from IPython.display import Markdown\n",
    "import pandas as pd\n",
    "\n",
    "get_ipython().set_next_input(\"Markdown('$\\\\begin{matrix} & \\\\eta \\\\\\\\ \\\\beta & \\\\end{matrix}$'+pd.DataFrame([[1,2,3],[4,5,6]]))\")"
   ],
   "metadata": {
    "collapsed": false,
    "ExecuteTime": {
     "end_time": "2024-04-21T16:41:45.527341Z",
     "start_time": "2024-04-21T16:41:45.518246Z"
    }
   },
   "id": "2042295ee777b1bd",
   "execution_count": 120
  },
  {
   "cell_type": "code",
   "outputs": [],
   "source": [
    "def create_new_cell(contents):\n",
    "    from IPython.core.getipython import get_ipython\n",
    "    shell = get_ipython()\n",
    "    \n",
    "    payload = dict(\n",
    "        source='set_next_input',\n",
    "        text=contents,\n",
    "        replace=False,\n",
    "    )\n",
    "    shell.payload_manager.write_payload(payload, single=False)\n",
    "\n",
    "create_new_cell('print(123)')"
   ],
   "metadata": {
    "collapsed": false,
    "ExecuteTime": {
     "end_time": "2024-04-21T16:43:27.993632Z",
     "start_time": "2024-04-21T16:43:27.983627Z"
    }
   },
   "id": "96dd7e02d551745a",
   "execution_count": 122
  },
  {
   "cell_type": "code",
   "outputs": [],
   "source": [],
   "metadata": {
    "collapsed": false
   },
   "id": "d2999712d29126b1"
  }
 ],
 "metadata": {
  "kernelspec": {
   "display_name": "Python 3",
   "language": "python",
   "name": "python3"
  },
  "language_info": {
   "codemirror_mode": {
    "name": "ipython",
    "version": 3
   },
   "file_extension": ".py",
   "mimetype": "text/x-python",
   "name": "python",
   "nbconvert_exporter": "python",
   "pygments_lexer": "ipython3",
   "version": "3.10.11"
  }
 },
 "nbformat": 4,
 "nbformat_minor": 5
}
