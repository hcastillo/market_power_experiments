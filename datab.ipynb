{
 "cells": [
  {
   "cell_type": "markdown",
   "id": "d66909108f24a27d",
   "metadata": {
    "collapsed": false
   },
   "source": [
    "---\n",
    "title: \"Data of exploration over parameters in the ABM model ($2^{nd}$ part)\"\n",
    "author: \"Hector Castillo\"\n",
    "format: pdf\n",
    "toc: true\n",
    "number-sections: false\n",
    "jupyter: python3\n",
    "ipynb-shell-interactivity: all\n",
    "\n",
    "---"
   ]
  },
  {
   "cell_type": "code",
   "execution_count": 1,
   "id": "c007085b6fc46c89",
   "metadata": {
    "ExecuteTime": {
     "end_time": "2024-04-20T22:01:53.251040Z",
     "start_time": "2024-04-20T22:01:52.167Z"
    }
   },
   "outputs": [],
   "source": [
    "#| echo: false\n",
    "path_to_data = '..\\\\experiments\\\\tablesb\\\\'\n",
    "from IPython.display import Markdown\n",
    "import pandas as pd\n",
    "\n",
    "def recover_data(origin):\n",
    "    return pd.read_pickle(f\"{path_to_data}{origin}.pickle\")\n",
    "\n",
    "def generate_markdown(origin):\n",
    "    data_frame = recover_data(origin)\n",
    "    return Markdown('$\\\\begin{matrix} & \\\\beta \\\\\\\\ \\\\eta & \\\\end{matrix}$'+data_frame.to_markdown()[1:])\n",
    "\n"
   ]
  },
  {
   "cell_type": "markdown",
   "id": "e2c67b2c4ca9b40a",
   "metadata": {
    "collapsed": false
   },
   "source": [
    "{{< pagebreak >}}\n",
    "## Firms Y"
   ]
  },
  {
   "cell_type": "code",
   "execution_count": 2,
   "id": "f9f56e4220d18dcd",
   "metadata": {
    "ExecuteTime": {
     "end_time": "2024-04-20T22:01:53.329086Z",
     "start_time": "2024-04-20T22:01:53.259405Z"
    }
   },
   "outputs": [
    {
     "data": {
      "text/markdown": [
       "$\\begin{matrix} & \\beta \\\\ \\eta & \\end{matrix}$        |      0.02 |      0.03 |     0.04 |     0.05 |\n",
       "|-------:|----------:|----------:|---------:|---------:|\n",
       "| 0.0001 | 102.979   | 104.02    | 94.104   | 95.3331  |\n",
       "| 0.1    |  68.3978  |  64.1478  | 60.7958  | 57.6331  |\n",
       "| 0.3    |  19.5709  |  18.4247  | 18.2815  | 17.6971  |\n",
       "| 0.5    |   6.49638 |   6.46678 |  6.45202 |  6.43295 |\n",
       "| 0.8    |   5.45062 |   5.44975 |  5.44928 |  5.44863 |"
      ],
      "text/plain": [
       "<IPython.core.display.Markdown object>"
      ]
     },
     "execution_count": 2,
     "metadata": {},
     "output_type": "execute_result"
    }
   ],
   "source": [
    "#| label: tbl-firmsy\n",
    "#| tbl-cap: \"Output of firms (logarithm)\"\n",
    "#| echo: false\n",
    "generate_markdown('FirmsY')"
   ]
  },
  {
   "cell_type": "code",
   "execution_count": 3,
   "id": "8ab59f7e39a0ef5d",
   "metadata": {
    "ExecuteTime": {
     "end_time": "2024-04-20T22:01:53.374959Z",
     "start_time": "2024-04-20T22:01:53.334563Z"
    }
   },
   "outputs": [
    {
     "data": {
      "text/markdown": [
       "$\\begin{matrix} & \\beta \\\\ \\eta & \\end{matrix}$        |       0.02 |       0.03 |       0.04 |       0.05 |\n",
       "|-------:|-----------:|-----------:|-----------:|-----------:|\n",
       "| 0.0001 | 40.9544    | 43.7462    | 33.5558    | 38.6107    |\n",
       "| 0.1    | 24.1054    | 20.8398    | 20.2247    | 18.3748    |\n",
       "| 0.3    |  5.21814   |  4.64948   |  4.75282   |  4.09135   |\n",
       "| 0.5    |  0.139143  |  0.14235   |  0.144649  |  0.149652  |\n",
       "| 0.8    |  0.0602912 |  0.0650957 |  0.0662822 |  0.0706615 |"
      ],
      "text/plain": [
       "<IPython.core.display.Markdown object>"
      ]
     },
     "execution_count": 3,
     "metadata": {},
     "output_type": "execute_result"
    }
   ],
   "source": [
    "#| label: tbl-firmsy_std\n",
    "#| tbl-cap: \"Standard deviation of output of firms (logarithm)\"\n",
    "#| echo: false\n",
    "generate_markdown('FirmsY_std')"
   ]
  },
  {
   "cell_type": "markdown",
   "id": "a2f298f7c184a813",
   "metadata": {
    "collapsed": false
   },
   "source": [
    "{{< pagebreak >}}\n",
    "## Firms R"
   ]
  },
  {
   "cell_type": "code",
   "execution_count": 4,
   "id": "874133827fcfc1be",
   "metadata": {
    "ExecuteTime": {
     "end_time": "2024-04-20T22:01:53.422218Z",
     "start_time": "2024-04-20T22:01:53.379661Z"
    }
   },
   "outputs": [
    {
     "data": {
      "text/markdown": [
       "$\\begin{matrix} & \\beta \\\\ \\eta & \\end{matrix}$        |     0.02 |     0.03 |     0.04 |     0.05 |\n",
       "|-------:|---------:|---------:|---------:|---------:|\n",
       "| 0.0001 | -5.21883 | -4.80965 | -4.51048 | -4.27472 |\n",
       "| 0.1    | -5.09945 | -4.68049 | -4.3791  | -4.1188  |\n",
       "| 0.3    | -4.35707 | -3.91621 | -3.585   | -3.3287  |\n",
       "| 0.5    | -4.10455 | -3.66703 | -3.3488  | -3.09417 |\n",
       "| 0.8    | -3.76451 | -3.29736 | -2.96173 | -2.68173 |"
      ],
      "text/plain": [
       "<IPython.core.display.Markdown object>"
      ]
     },
     "execution_count": 4,
     "metadata": {},
     "output_type": "execute_result"
    }
   ],
   "source": [
    "#| label: tbl-firmsr\n",
    "#| tbl-cap: \"Interest rate of firms\"\n",
    "#| echo: false\n",
    "generate_markdown('FirmsR')"
   ]
  },
  {
   "cell_type": "code",
   "execution_count": 5,
   "id": "1d314d4defaac780",
   "metadata": {
    "ExecuteTime": {
     "end_time": "2024-04-20T22:01:53.452404Z",
     "start_time": "2024-04-20T22:01:53.425803Z"
    }
   },
   "outputs": [
    {
     "data": {
      "text/markdown": [
       "$\\begin{matrix} & \\beta \\\\ \\eta & \\end{matrix}$        |     0.02 |     0.03 |     0.04 |     0.05 |\n",
       "|-------:|---------:|---------:|---------:|---------:|\n",
       "| 0.0001 | 0.675279 | 0.658838 | 0.666287 | 0.660868 |\n",
       "| 0.1    | 0.673893 | 0.694355 | 0.689999 | 0.7107   |\n",
       "| 0.3    | 0.623153 | 0.601589 | 0.613529 | 0.598305 |\n",
       "| 0.5    | 0.588218 | 0.594192 | 0.573822 | 0.584482 |\n",
       "| 0.8    | 0.5329   | 0.537767 | 0.508042 | 0.537576 |"
      ],
      "text/plain": [
       "<IPython.core.display.Markdown object>"
      ]
     },
     "execution_count": 5,
     "metadata": {},
     "output_type": "execute_result"
    }
   ],
   "source": [
    "#| label: tbl-firmsr_std\n",
    "#| tbl-cap: \"Standard deviation of interest rate\"\n",
    "#| echo: false\n",
    "generate_markdown('FirmsR_std')"
   ]
  },
  {
   "cell_type": "markdown",
   "id": "dad065e5bb3004cf",
   "metadata": {
    "collapsed": false
   },
   "source": [
    "{{< pagebreak >}}\n",
    "## Firms K"
   ]
  },
  {
   "cell_type": "code",
   "execution_count": 6,
   "id": "a0ed806e4a4ada5f",
   "metadata": {
    "ExecuteTime": {
     "end_time": "2024-04-20T22:01:53.482322Z",
     "start_time": "2024-04-20T22:01:53.459300Z"
    }
   },
   "outputs": [
    {
     "data": {
      "text/markdown": [
       "$\\begin{matrix} & \\beta \\\\ \\eta & \\end{matrix}$        |      0.02 |      0.03 |     0.04 |     0.05 |\n",
       "|-------:|----------:|----------:|---------:|---------:|\n",
       "| 0.0001 | 102.797   | 103.838   | 93.9217  | 95.1507  |\n",
       "| 0.1    |  68.2155  |  63.9655  | 60.6134  | 57.4507  |\n",
       "| 0.3    |  19.3886  |  18.2424  | 18.0992  | 17.5147  |\n",
       "| 0.5    |   6.31406 |   6.28446 |  6.2697  |  6.25063 |\n",
       "| 0.8    |   5.2683  |   5.26743 |  5.26696 |  5.26631 |"
      ],
      "text/plain": [
       "<IPython.core.display.Markdown object>"
      ]
     },
     "execution_count": 6,
     "metadata": {},
     "output_type": "execute_result"
    }
   ],
   "source": [
    "#| label: tbl-firmsk\n",
    "#| echo: false\n",
    "generate_markdown('FirmsK')"
   ]
  },
  {
   "cell_type": "markdown",
   "id": "409369443635eaae",
   "metadata": {
    "collapsed": false
   },
   "source": [
    "#| echo: false\n",
    "generate_markdown('FirmsK_std')"
   ]
  },
  {
   "cell_type": "markdown",
   "id": "22e91db0908ed032",
   "metadata": {
    "collapsed": false
   },
   "source": [
    "{{< pagebreak >}}\n",
    "## Firms A"
   ]
  },
  {
   "cell_type": "code",
   "execution_count": 7,
   "id": "29c22327b2d57d85",
   "metadata": {
    "ExecuteTime": {
     "end_time": "2024-04-20T22:01:53.513303Z",
     "start_time": "2024-04-20T22:01:53.485040Z"
    }
   },
   "outputs": [
    {
     "data": {
      "text/markdown": [
       "$\\begin{matrix} & \\beta \\\\ \\eta & \\end{matrix}$        |          0.02 |          0.03 |          0.04 |          0.05 |\n",
       "|-------:|--------------:|--------------:|--------------:|--------------:|\n",
       "| 0.0001 |   3.73355e+97 |   1.13606e+97 |   4.09199e+73 |   1.53105e+95 |\n",
       "| 0.1    |   1.35598e+57 |   1.07054e+49 |   1.33744e+52 |   1.00872e+43 |\n",
       "| 0.3    |   4.00592e+14 |   2.59019e+14 |   3.75754e+16 |   1.43442e+11 |\n",
       "| 0.5    | 466.08        | 450.231       | 441.531       | 431.474       |\n",
       "| 0.8    | 120.284       | 116.242       | 111.343       | 106.854       |"
      ],
      "text/plain": [
       "<IPython.core.display.Markdown object>"
      ]
     },
     "execution_count": 7,
     "metadata": {},
     "output_type": "execute_result"
    }
   ],
   "source": [
    "#| label: tbl-firmsa\n",
    "#| echo: false\n",
    "generate_markdown('FirmsA')"
   ]
  },
  {
   "cell_type": "code",
   "execution_count": 8,
   "id": "7d552eae5d122c44",
   "metadata": {
    "ExecuteTime": {
     "end_time": "2024-04-20T22:01:53.544818Z",
     "start_time": "2024-04-20T22:01:53.517315Z"
    }
   },
   "outputs": [
    {
     "data": {
      "text/markdown": [
       "$\\begin{matrix} & \\beta \\\\ \\eta & \\end{matrix}$        |         0.02 |         0.03 |         0.04 |         0.05 |\n",
       "|-------:|-------------:|-------------:|-------------:|-------------:|\n",
       "| 0.0001 |  1.44606e+99 |  3.91244e+98 |  1.39625e+75 |  4.30512e+96 |\n",
       "| 0.1    |  5.8962e+58  |  3.78384e+50 |  3.71239e+53 |  2.08086e+44 |\n",
       "| 0.3    |  7.51877e+15 |  5.71139e+15 |  8.72817e+17 |  3.19764e+12 |\n",
       "| 0.5    | 78.1982      | 77.7228      | 76.5566      | 82.6577      |\n",
       "| 0.8    | 15.4561      | 16.0891      | 16.2567      | 17.132       |"
      ],
      "text/plain": [
       "<IPython.core.display.Markdown object>"
      ]
     },
     "execution_count": 8,
     "metadata": {},
     "output_type": "execute_result"
    }
   ],
   "source": [
    "#| echo: false\n",
    "generate_markdown('FirmsA_std')"
   ]
  },
  {
   "cell_type": "markdown",
   "id": "4197995d88d19ae",
   "metadata": {
    "collapsed": false
   },
   "source": [
    "{{< pagebreak >}}\n",
    "## Firms L"
   ]
  },
  {
   "cell_type": "code",
   "execution_count": 9,
   "id": "8b804e59b4bbfd29",
   "metadata": {
    "ExecuteTime": {
     "end_time": "2024-04-20T22:01:53.582630Z",
     "start_time": "2024-04-20T22:01:53.548435Z"
    }
   },
   "outputs": [
    {
     "data": {
      "text/markdown": [
       "$\\begin{matrix} & \\beta \\\\ \\eta & \\end{matrix}$        |     0.02 |     0.03 |     0.04 |     0.05 |\n",
       "|-------:|---------:|---------:|---------:|---------:|\n",
       "| 0.0001 | 75.2931  | 74.3099  | 69.2314  | 67.9323  |\n",
       "| 0.1    | 49.6521  | 48.2232  | 45.0375  | 42.8239  |\n",
       "| 0.3    | 14.0457  | 13.2842  | 13.1286  | 12.7933  |\n",
       "| 0.5    |  4.48892 |  4.48883 |  4.49818 |  4.5042  |\n",
       "| 0.8    |  4.28282 |  4.33631 |  4.39815 |  4.45034 |"
      ],
      "text/plain": [
       "<IPython.core.display.Markdown object>"
      ]
     },
     "execution_count": 9,
     "metadata": {},
     "output_type": "execute_result"
    }
   ],
   "source": [
    "#| label: tbl-l\n",
    "#| echo: false\n",
    "generate_markdown('FirmsL')"
   ]
  },
  {
   "cell_type": "code",
   "execution_count": 10,
   "id": "3cbb7ac5fcb2e5c2",
   "metadata": {
    "ExecuteTime": {
     "end_time": "2024-04-20T22:01:53.613941Z",
     "start_time": "2024-04-20T22:01:53.586261Z"
    }
   },
   "outputs": [
    {
     "data": {
      "text/markdown": [
       "$\\begin{matrix} & \\beta \\\\ \\eta & \\end{matrix}$        |      0.02 |      0.03 |      0.04 |      0.05 |\n",
       "|-------:|----------:|----------:|----------:|----------:|\n",
       "| 0.0001 | 33.1814   | 34.7368   | 28.9505   | 29.9849   |\n",
       "| 0.1    | 20.4215   | 18.9354   | 17.5294   | 16.3626   |\n",
       "| 0.3    |  4.8244   |  4.26394  |  4.35673  |  4.05536  |\n",
       "| 0.5    |  0.235271 |  0.227271 |  0.229434 |  0.225229 |\n",
       "| 0.8    |  0.206604 |  0.197315 |  0.187809 |  0.187348 |"
      ],
      "text/plain": [
       "<IPython.core.display.Markdown object>"
      ]
     },
     "execution_count": 10,
     "metadata": {},
     "output_type": "execute_result"
    }
   ],
   "source": [
    "#| echo: false\n",
    "generate_markdown('FirmsL_std')"
   ]
  },
  {
   "cell_type": "markdown",
   "id": "159349025e36651b",
   "metadata": {
    "collapsed": false
   },
   "source": [
    "{{< pagebreak >}}\n",
    "## Firms PROFITS"
   ]
  },
  {
   "cell_type": "code",
   "execution_count": 11,
   "id": "6f44a9b2c5bccbe6",
   "metadata": {
    "ExecuteTime": {
     "end_time": "2024-04-20T22:01:53.645442Z",
     "start_time": "2024-04-20T22:01:53.617095Z"
    }
   },
   "outputs": [
    {
     "data": {
      "text/markdown": [
       "$\\begin{matrix} & \\beta \\\\ \\eta & \\end{matrix}$        |          0.02 |          0.03 |          0.04 |          0.05 |\n",
       "|-------:|--------------:|--------------:|--------------:|--------------:|\n",
       "| 0.0001 |   1.04837e+97 |  -1.34352e+94 |   8.32502e+72 |  -2.3712e+93  |\n",
       "| 0.1    |  -9.1759e+55  |  -8.49381e+46 |  -4.24825e+50 |  -9.86548e+40 |\n",
       "| 0.3    |  -1.94112e+12 |  -3.67803e+12 |   7.06267e+14 |  -1.76012e+09 |\n",
       "| 0.5    | -12.8197      | -13.9877      | -15.8766      | -21.4759      |\n",
       "| 0.8    | -25.7492      | -30.3074      | -32.0016      | -35.583       |"
      ],
      "text/plain": [
       "<IPython.core.display.Markdown object>"
      ]
     },
     "execution_count": 11,
     "metadata": {},
     "output_type": "execute_result"
    }
   ],
   "source": [
    "#| label: tbl-profits\n",
    "#| echo: false\n",
    "generate_markdown('FirmsPROFITS')"
   ]
  },
  {
   "cell_type": "code",
   "execution_count": 12,
   "id": "c408bc7aec8e7e51",
   "metadata": {
    "ExecuteTime": {
     "end_time": "2024-04-20T22:01:53.676499Z",
     "start_time": "2024-04-20T22:01:53.648486Z"
    }
   },
   "outputs": [
    {
     "data": {
      "text/markdown": [
       "$\\begin{matrix} & \\beta \\\\ \\eta & \\end{matrix}$        |         0.02 |          0.03 |         0.04 |          0.05 |\n",
       "|-------:|-------------:|--------------:|-------------:|--------------:|\n",
       "| 0.0001 |  8.52323e+98 |   1.98198e+98 |  5.80244e+74 |   3.56023e+96 |\n",
       "| 0.1    |  3.63918e+58 |   1.70527e+50 |  2.46037e+53 |   1.0423e+44  |\n",
       "| 0.3    |  4.23891e+15 |   2.96067e+15 |  4.29694e+17 |   1.82433e+12 |\n",
       "| 0.5    | 45.8718      |  38.9783      | 62.9509      | 408.068       |\n",
       "| 0.8    | 18.7087      | 147.435       | 59.2091      |  81.8638      |"
      ],
      "text/plain": [
       "<IPython.core.display.Markdown object>"
      ]
     },
     "execution_count": 12,
     "metadata": {},
     "output_type": "execute_result"
    }
   ],
   "source": [
    "#| echo: false\n",
    "generate_markdown('FirmsPROFITS_std')"
   ]
  },
  {
   "cell_type": "markdown",
   "id": "15db4faa77cd5105",
   "metadata": {
    "collapsed": false
   },
   "source": [
    "{{< pagebreak >}}\n",
    "## Firms I"
   ]
  },
  {
   "cell_type": "code",
   "execution_count": 13,
   "id": "f0cfa4141edc0459",
   "metadata": {
    "ExecuteTime": {
     "end_time": "2024-04-20T22:01:53.707038Z",
     "start_time": "2024-04-20T22:01:53.678863Z"
    }
   },
   "outputs": [
    {
     "data": {
      "text/markdown": [
       "$\\begin{matrix} & \\beta \\\\ \\eta & \\end{matrix}$        |           0.02 |           0.03 |           0.04 |           0.05 |\n",
       "|-------:|---------------:|---------------:|---------------:|---------------:|\n",
       "| 0.0001 |   -8.58854e+96 |   -5.10575e+96 |   -1.37565e+73 |   -5.60916e+94 |\n",
       "| 0.1    |   -5.39092e+56 |   -3.71813e+48 |   -5.89884e+51 |   -3.94598e+42 |\n",
       "| 0.3    |   -1.97127e+14 |   -9.01837e+13 |   -1.3193e+16  |   -7.58433e+10 |\n",
       "| 0.5    | -242.593       | -240.501       | -241.378       | -241.371       |\n",
       "| 0.8    | -143.081       | -148.106       | -154.089       | -159.672       |"
      ],
      "text/plain": [
       "<IPython.core.display.Markdown object>"
      ]
     },
     "execution_count": 13,
     "metadata": {},
     "output_type": "execute_result"
    }
   ],
   "source": [
    "#| label: tbl-firmsi\n",
    "#| echo: false\n",
    "generate_markdown('FirmsI')"
   ]
  },
  {
   "cell_type": "code",
   "execution_count": 14,
   "id": "d56c3815dff084c3",
   "metadata": {
    "ExecuteTime": {
     "end_time": "2024-04-20T22:01:53.738514Z",
     "start_time": "2024-04-20T22:01:53.710417Z"
    }
   },
   "outputs": [
    {
     "data": {
      "text/markdown": [
       "$\\begin{matrix} & \\beta \\\\ \\eta & \\end{matrix}$        |         0.02 |         0.03 |         0.04 |         0.05 |\n",
       "|-------:|-------------:|-------------:|-------------:|-------------:|\n",
       "| 0.0001 |  2.8956e+98  |  1.63911e+98 |  5.33548e+74 |  1.54577e+96 |\n",
       "| 0.1    |  2.32769e+58 |  1.33209e+50 |  1.46301e+53 |  7.88699e+43 |\n",
       "| 0.3    |  4.03823e+15 |  2.11389e+15 |  3.19732e+17 |  1.72044e+12 |\n",
       "| 0.5    | 32.4912      | 31.8477      | 32.0774      | 34.2717      |\n",
       "| 0.8    | 22.5012      | 22.5839      | 22.824       | 23.3714      |"
      ],
      "text/plain": [
       "<IPython.core.display.Markdown object>"
      ]
     },
     "execution_count": 14,
     "metadata": {},
     "output_type": "execute_result"
    }
   ],
   "source": [
    "#| echo: false\n",
    "generate_markdown('FirmsI_std')"
   ]
  },
  {
   "cell_type": "markdown",
   "id": "c5585421fc62ad81",
   "metadata": {
    "collapsed": false
   },
   "source": [
    "{{< pagebreak >}}\n",
    "## Firms GAMMA"
   ]
  },
  {
   "cell_type": "code",
   "execution_count": 15,
   "id": "4b1540d49662a551",
   "metadata": {
    "ExecuteTime": {
     "end_time": "2024-04-20T22:01:53.769654Z",
     "start_time": "2024-04-20T22:01:53.741889Z"
    }
   },
   "outputs": [
    {
     "data": {
      "text/markdown": [
       "$\\begin{matrix} & \\beta \\\\ \\eta & \\end{matrix}$        |     0.02 |     0.03 |     0.04 |     0.05 |\n",
       "|-------:|---------:|---------:|---------:|---------:|\n",
       "| 0.0001 | 0.709517 | 0.713959 | 0.716969 | 0.722634 |\n",
       "| 0.1    | 0.709669 | 0.724523 | 0.719094 | 0.726648 |\n",
       "| 0.3    | 0.721365 | 0.725348 | 0.737371 | 0.757787 |\n",
       "| 0.5    | 0.721371 | 0.730593 | 0.741409 | 0.775463 |\n",
       "| 0.8    | 0.728707 | 0.755675 | 0.756751 | 0.777335 |"
      ],
      "text/plain": [
       "<IPython.core.display.Markdown object>"
      ]
     },
     "execution_count": 15,
     "metadata": {},
     "output_type": "execute_result"
    }
   ],
   "source": [
    "#| label: tbl-gamma\n",
    "#| echo: false\n",
    "generate_markdown('FirmsGAMMA')"
   ]
  },
  {
   "cell_type": "code",
   "execution_count": 16,
   "id": "9cc352a93c3833b8",
   "metadata": {
    "ExecuteTime": {
     "end_time": "2024-04-20T22:01:53.800219Z",
     "start_time": "2024-04-20T22:01:53.774059Z"
    }
   },
   "outputs": [
    {
     "data": {
      "text/markdown": [
       "$\\begin{matrix} & \\beta \\\\ \\eta & \\end{matrix}$        |      0.02 |      0.03 |      0.04 |     0.05 |\n",
       "|-------:|----------:|----------:|----------:|---------:|\n",
       "| 0.0001 | 0.0646458 | 0.0894462 | 0.0904501 | 0.158787 |\n",
       "| 0.1    | 0.0434401 | 0.848912  | 0.0920972 | 0.169429 |\n",
       "| 0.3    | 0.180063  | 0.0991243 | 0.176336  | 1.51265  |\n",
       "| 0.5    | 0.132903  | 0.145929  | 0.262034  | 2.02316  |\n",
       "| 0.8    | 0.221078  | 1.24191   | 0.575324  | 0.912458 |"
      ],
      "text/plain": [
       "<IPython.core.display.Markdown object>"
      ]
     },
     "execution_count": 16,
     "metadata": {},
     "output_type": "execute_result"
    }
   ],
   "source": [
    "#| echo: false\n",
    "generate_markdown('FirmsGAMMA_std')"
   ]
  },
  {
   "cell_type": "markdown",
   "id": "e461734e87119bb",
   "metadata": {
    "collapsed": false
   },
   "source": [
    "{{< pagebreak >}}\n",
    "## Firms U"
   ]
  },
  {
   "cell_type": "code",
   "execution_count": 17,
   "id": "e35bf0bddbc4a9e6",
   "metadata": {
    "ExecuteTime": {
     "end_time": "2024-04-20T22:01:53.831387Z",
     "start_time": "2024-04-20T22:01:53.804579Z"
    }
   },
   "outputs": [
    {
     "data": {
      "text/markdown": [
       "$\\begin{matrix} & \\beta \\\\ \\eta & \\end{matrix}$        |     0.02 |     0.03 |    0.04 |     0.05 |\n",
       "|-------:|---------:|---------:|--------:|---------:|\n",
       "| 0.0001 | 0.999388 | 1.00051  | 1       | 0.99993  |\n",
       "| 0.1    | 1.00021  | 1.00128  | 1.00047 | 0.999481 |\n",
       "| 0.3    | 1.00034  | 1.0006   | 0.99931 | 1.00062  |\n",
       "| 0.5    | 1.00036  | 0.999415 | 1.00016 | 1.00048  |\n",
       "| 0.8    | 0.999307 | 1.00068  | 1.00005 | 1.00032  |"
      ],
      "text/plain": [
       "<IPython.core.display.Markdown object>"
      ]
     },
     "execution_count": 17,
     "metadata": {},
     "output_type": "execute_result"
    }
   ],
   "source": [
    "#| label: tbl-u\n",
    "#| echo: false\n",
    "generate_markdown('FirmsU')"
   ]
  },
  {
   "cell_type": "code",
   "execution_count": 18,
   "id": "c60146690c1877d4",
   "metadata": {
    "ExecuteTime": {
     "end_time": "2024-04-20T22:01:53.862300Z",
     "start_time": "2024-04-20T22:01:53.840647Z"
    }
   },
   "outputs": [
    {
     "data": {
      "text/markdown": [
       "$\\begin{matrix} & \\beta \\\\ \\eta & \\end{matrix}$        |      0.02 |      0.03 |      0.04 |      0.05 |\n",
       "|-------:|----------:|----------:|----------:|----------:|\n",
       "| 0.0001 | 0.0578837 | 0.0581447 | 0.0579162 | 0.0586589 |\n",
       "| 0.1    | 0.0583819 | 0.0580735 | 0.0568634 | 0.0571837 |\n",
       "| 0.3    | 0.0583422 | 0.0578328 | 0.0578476 | 0.0579447 |\n",
       "| 0.5    | 0.0583177 | 0.0576623 | 0.0578605 | 0.058113  |\n",
       "| 0.8    | 0.0583122 | 0.0582915 | 0.0571095 | 0.057581  |"
      ],
      "text/plain": [
       "<IPython.core.display.Markdown object>"
      ]
     },
     "execution_count": 18,
     "metadata": {},
     "output_type": "execute_result"
    }
   ],
   "source": [
    "#| echo: false\n",
    "generate_markdown('FirmsU_std')"
   ]
  },
  {
   "cell_type": "markdown",
   "id": "2e117d94361abae6",
   "metadata": {
    "collapsed": false
   },
   "source": [
    "{{< pagebreak >}}\n",
    "## Firms DK"
   ]
  },
  {
   "cell_type": "code",
   "execution_count": 19,
   "id": "6925120e17a8ac70",
   "metadata": {
    "ExecuteTime": {
     "end_time": "2024-04-20T22:01:53.892686Z",
     "start_time": "2024-04-20T22:01:53.865780Z"
    }
   },
   "outputs": [
    {
     "data": {
      "text/markdown": [
       "$\\begin{matrix} & \\beta \\\\ \\eta & \\end{matrix}$        |          0.02 |          0.03 |          0.04 |          0.05 |\n",
       "|-------:|--------------:|--------------:|--------------:|--------------:|\n",
       "| 0.0001 |   1.91561e+97 |   8.05991e+96 |   2.28748e+73 |   1.07694e+95 |\n",
       "| 0.1    |   9.67787e+56 |   7.61962e+48 |   9.38855e+51 |   7.15273e+42 |\n",
       "| 0.3    |   2.82811e+14 |   1.8419e+14  |   2.61315e+16 |   9.98899e+10 |\n",
       "| 0.5    | 332.492       | 320.821       | 314.315       | 306.736       |\n",
       "| 0.8    |  91.6034      |  90.0481      |  88.2635      |  86.7328      |"
      ],
      "text/plain": [
       "<IPython.core.display.Markdown object>"
      ]
     },
     "execution_count": 19,
     "metadata": {},
     "output_type": "execute_result"
    }
   ],
   "source": [
    "#| label: tbl-firmsdk\n",
    "#| echo: false\n",
    "generate_markdown('FirmsDK')"
   ]
  },
  {
   "cell_type": "code",
   "execution_count": 20,
   "id": "3537cbfb9862deb7",
   "metadata": {
    "ExecuteTime": {
     "end_time": "2024-04-20T22:01:53.923696Z",
     "start_time": "2024-04-20T22:01:53.896331Z"
    }
   },
   "outputs": [
    {
     "data": {
      "text/markdown": [
       "$\\begin{matrix} & \\beta \\\\ \\eta & \\end{matrix}$        |         0.02 |         0.03 |         0.04 |         0.05 |\n",
       "|-------:|-------------:|-------------:|-------------:|-------------:|\n",
       "| 0.0001 |  7.11595e+98 |  2.78431e+98 |  7.88913e+74 |  3.03737e+96 |\n",
       "| 0.1    |  4.2111e+58  |  2.69733e+50 |  2.63325e+53 |  1.48261e+44 |\n",
       "| 0.3    |  5.31787e+15 |  4.0591e+15  |  6.16511e+17 |  2.24883e+12 |\n",
       "| 0.5    | 55.3542      | 54.5645      | 53.7019      | 57.7708      |\n",
       "| 0.8    |  6.8419      |  6.86205     |  6.70776     |  6.8196      |"
      ],
      "text/plain": [
       "<IPython.core.display.Markdown object>"
      ]
     },
     "execution_count": 20,
     "metadata": {},
     "output_type": "execute_result"
    }
   ],
   "source": [
    "#| echo: false\n",
    "generate_markdown('FirmsDK_std')"
   ]
  },
  {
   "cell_type": "markdown",
   "id": "242fb48651baaa16",
   "metadata": {
    "collapsed": false
   },
   "source": [
    "{{< pagebreak >}}\n",
    "## Firms OL"
   ]
  },
  {
   "cell_type": "code",
   "execution_count": 21,
   "id": "907f586faac0dab2",
   "metadata": {
    "ExecuteTime": {
     "end_time": "2024-04-20T22:01:53.954527Z",
     "start_time": "2024-04-20T22:01:53.926237Z"
    }
   },
   "outputs": [
    {
     "data": {
      "text/markdown": [
       "$\\begin{matrix} & \\beta \\\\ \\eta & \\end{matrix}$        |            0.02 |            0.03 |            0.04 |            0.05 |\n",
       "|-------:|----------------:|----------------:|----------------:|----------------:|\n",
       "| 0.0001 |     9.6643e+96  |     1.71561e+98 |     4.0726e+73  |     2.74772e+95 |\n",
       "| 0.1    |     1.30613e+58 |     2.84287e+50 |     1.41433e+53 |     2.46072e+44 |\n",
       "| 0.3    |     9.74321e+15 |     6.73134e+15 |     2.36045e+16 |     3.94362e+12 |\n",
       "| 0.5    | 12242.7         | 11923.7         | 11961.2         | 11803.9         |\n",
       "| 0.8    |  3574.97        |  3660.86        |  3448.93        |  3380.65        |"
      ],
      "text/plain": [
       "<IPython.core.display.Markdown object>"
      ]
     },
     "execution_count": 21,
     "metadata": {},
     "output_type": "execute_result"
    }
   ],
   "source": [
    "#| label: tbl-ol\n",
    "#| echo: false\n",
    "generate_markdown('FirmsOL')"
   ]
  },
  {
   "cell_type": "code",
   "execution_count": 22,
   "id": "e2eb93877d3e805",
   "metadata": {
    "ExecuteTime": {
     "end_time": "2024-04-20T22:01:53.985527Z",
     "start_time": "2024-04-20T22:01:53.958165Z"
    }
   },
   "outputs": [
    {
     "data": {
      "text/markdown": [
       "$\\begin{matrix} & \\beta \\\\ \\eta & \\end{matrix}$        |           0.02 |           0.03 |           0.04 |           0.05 |\n",
       "|-------:|---------------:|---------------:|---------------:|---------------:|\n",
       "| 0.0001 |    2.73733e+98 |    1.06578e+99 |    3.67163e+74 |    4.76428e+96 |\n",
       "| 0.1    |    1.0685e+59  |    1.22848e+51 |    1.106e+54   |    8.35274e+44 |\n",
       "| 0.3    |    4.05632e+16 |    2.83098e+16 |    4.69709e+17 |    1.40376e+13 |\n",
       "| 0.5    | 7159.8         | 6966.9         | 6935.43        | 6924.19        |\n",
       "| 0.8    | 2073.73        | 2277.57        | 2029.1         | 2002.56        |"
      ],
      "text/plain": [
       "<IPython.core.display.Markdown object>"
      ]
     },
     "execution_count": 22,
     "metadata": {},
     "output_type": "execute_result"
    }
   ],
   "source": [
    "#| echo: false\n",
    "generate_markdown('FirmsOL_std')"
   ]
  },
  {
   "cell_type": "markdown",
   "id": "c4fea3be9743e325",
   "metadata": {
    "collapsed": false
   },
   "source": [
    "{{< pagebreak >}}\n",
    "## Firms GAP_OF_L"
   ]
  },
  {
   "cell_type": "code",
   "execution_count": 23,
   "id": "5a8a9c080e98c5ef",
   "metadata": {
    "ExecuteTime": {
     "end_time": "2024-04-20T22:01:54.015286Z",
     "start_time": "2024-04-20T22:01:53.989330Z"
    }
   },
   "outputs": [
    {
     "data": {
      "text/markdown": [
       "$\\begin{matrix} & \\beta \\\\ \\eta & \\end{matrix}$        |        0.02 |        0.03 |        0.04 |        0.05 |\n",
       "|-------:|------------:|------------:|------------:|------------:|\n",
       "| 0.0001 | 1.42362e+23 | 1.69158e+22 | 3.9556e+17  | 3.306e+28   |\n",
       "| 0.1    | 3.59788e+14 | 5.26395e+12 | 3.29033e+22 | 4.28532e+11 |\n",
       "| 0.3    | 0.00164323  | 0.00283157  | 0.0181951   | 0.117091    |\n",
       "| 0.5    | 0           | 5.41536e-05 | 0           | 8.89559e-05 |\n",
       "| 0.8    | 0           | 9.66139e-05 | 0.000171434 | 0.000370614 |"
      ],
      "text/plain": [
       "<IPython.core.display.Markdown object>"
      ]
     },
     "execution_count": 23,
     "metadata": {},
     "output_type": "execute_result"
    }
   ],
   "source": [
    "#| label: tbl-gapofl\n",
    "#| echo: false\n",
    "generate_markdown('FirmsGAP_OF_L')"
   ]
  },
  {
   "cell_type": "code",
   "execution_count": 24,
   "id": "9aae0e8f835fe264",
   "metadata": {
    "ExecuteTime": {
     "end_time": "2024-04-20T22:01:54.031024Z",
     "start_time": "2024-04-20T22:01:54.017680Z"
    }
   },
   "outputs": [
    {
     "data": {
      "text/markdown": [
       "$\\begin{matrix} & \\beta \\\\ \\eta & \\end{matrix}$        |        0.02 |        0.03 |        0.04 |         0.05 |\n",
       "|-------:|------------:|------------:|------------:|-------------:|\n",
       "| 0.0001 | 1.41493e+25 | 1.69158e+24 | 3.9556e+19  |  3.306e+30   |\n",
       "| 0.1    | 3.59787e+16 | 5.26395e+14 | 3.29033e+24 |  3.53303e+13 |\n",
       "| 0.3    | 0.138405    | 0.194222    | 1.70583     | 11.6297      |\n",
       "| 0.5    | 0           | 0.00462037  | 0           |  0.00593276  |\n",
       "| 0.8    | 0           | 0.00814973  | 0.00908796  |  0.015228    |"
      ],
      "text/plain": [
       "<IPython.core.display.Markdown object>"
      ]
     },
     "execution_count": 24,
     "metadata": {},
     "output_type": "execute_result"
    }
   ],
   "source": [
    "#| echo: false\n",
    "generate_markdown('FirmsGAP_OF_L_std')"
   ]
  },
  {
   "cell_type": "markdown",
   "id": "4508610c80a80f9d",
   "metadata": {
    "collapsed": false
   },
   "source": [
    "{{< pagebreak >}}\n",
    "## Firms DL"
   ]
  },
  {
   "cell_type": "code",
   "execution_count": 25,
   "id": "cf857e316914efe0",
   "metadata": {
    "ExecuteTime": {
     "end_time": "2024-04-20T22:01:54.062319Z",
     "start_time": "2024-04-20T22:01:54.034768Z"
    }
   },
   "outputs": [
    {
     "data": {
      "text/markdown": [
       "$\\begin{matrix} & \\beta \\\\ \\eta & \\end{matrix}$        |         0.02 |         0.03 |         0.04 |         0.05 |\n",
       "|-------:|-------------:|-------------:|-------------:|-------------:|\n",
       "| 0.0001 | -1.09382e+95 | -3.52428e+94 | -1.66226e+71 | -5.83758e+92 |\n",
       "| 0.1    | -4.29561e+54 | -3.93789e+46 | -4.29955e+49 | -3.35693e+40 |\n",
       "| 0.3    | -1.19918e+12 | -8.39871e+11 | -1.34167e+14 | -4.48383e+08 |\n",
       "| 0.5    | -1.49915     | -1.46905     | -1.46284     | -1.4475      |\n",
       "| 0.8    | -0.530049    | -0.529609    | -0.527979    | -0.5271      |"
      ],
      "text/plain": [
       "<IPython.core.display.Markdown object>"
      ]
     },
     "execution_count": 25,
     "metadata": {},
     "output_type": "execute_result"
    }
   ],
   "source": [
    "#| label: tbl-firmsdl\n",
    "#| echo: false\n",
    "generate_markdown('FirmsDL')"
   ]
  },
  {
   "cell_type": "code",
   "execution_count": 26,
   "id": "17baead25afd2893",
   "metadata": {
    "ExecuteTime": {
     "end_time": "2024-04-20T22:01:54.092970Z",
     "start_time": "2024-04-20T22:01:54.065750Z"
    }
   },
   "outputs": [
    {
     "data": {
      "text/markdown": [
       "$\\begin{matrix} & \\beta \\\\ \\eta & \\end{matrix}$        |        0.02 |        0.03 |        0.04 |        0.05 |\n",
       "|-------:|------------:|------------:|------------:|------------:|\n",
       "| 0.0001 | 6.09083e+96 | 2.50553e+96 | 8.11129e+72 | 3.95469e+94 |\n",
       "| 0.1    | 4.19929e+56 | 2.00042e+48 | 2.88996e+51 | 1.27805e+42 |\n",
       "| 0.3    | 5.31721e+13 | 3.49425e+13 | 5.26791e+15 | 2.29615e+10 |\n",
       "| 0.5    | 0.458098    | 0.439805    | 0.434849    | 0.466253    |\n",
       "| 0.8    | 0.0872577   | 0.0866551   | 0.0854169   | 0.0847718   |"
      ],
      "text/plain": [
       "<IPython.core.display.Markdown object>"
      ]
     },
     "execution_count": 26,
     "metadata": {},
     "output_type": "execute_result"
    }
   ],
   "source": [
    "#| echo: false\n",
    "generate_markdown('FirmsDL_std')"
   ]
  },
  {
   "cell_type": "markdown",
   "id": "40b2b0ebd1c5ec0",
   "metadata": {
    "collapsed": false
   },
   "source": [
    "{{< pagebreak >}}\n",
    "## Firms FAIL"
   ]
  },
  {
   "cell_type": "code",
   "execution_count": 27,
   "id": "845d67270a6a6f06",
   "metadata": {
    "ExecuteTime": {
     "end_time": "2024-04-20T22:01:54.108320Z",
     "start_time": "2024-04-20T22:01:54.095576Z"
    }
   },
   "outputs": [
    {
     "data": {
      "text/markdown": [
       "$\\begin{matrix} & \\beta \\\\ \\eta & \\end{matrix}$        |    0.02 |    0.03 |    0.04 |    0.05 |\n",
       "|-------:|--------:|--------:|--------:|--------:|\n",
       "| 0.0001 |  1.4765 |  1.5374 |  1.5763 |  1.6531 |\n",
       "| 0.1    |  1.7919 |  1.8615 |  1.9437 |  2.0292 |\n",
       "| 0.3    |  4.3263 |  4.555  |  4.8678 |  5.0905 |\n",
       "| 0.5    |  6.2082 |  6.6016 |  7.0591 |  7.4617 |\n",
       "| 0.8    | 12.9507 | 13.9649 | 15.2491 | 16.4174 |"
      ],
      "text/plain": [
       "<IPython.core.display.Markdown object>"
      ]
     },
     "execution_count": 27,
     "metadata": {},
     "output_type": "execute_result"
    }
   ],
   "source": [
    "#| label: tbl-fails\n",
    "#| echo: false\n",
    "generate_markdown('FirmsFAIL')"
   ]
  },
  {
   "cell_type": "code",
   "execution_count": 28,
   "id": "3809cd3a0df060f1",
   "metadata": {
    "ExecuteTime": {
     "end_time": "2024-04-20T22:01:54.138855Z",
     "start_time": "2024-04-20T22:01:54.111656Z"
    }
   },
   "outputs": [
    {
     "data": {
      "text/markdown": [
       "$\\begin{matrix} & \\beta \\\\ \\eta & \\end{matrix}$        |    0.02 |    0.03 |    0.04 |    0.05 |\n",
       "|-------:|--------:|--------:|--------:|--------:|\n",
       "| 0.0001 | 1.21934 | 1.23659 | 1.25001 | 1.26883 |\n",
       "| 0.1    | 1.32203 | 1.36415 | 1.39797 | 1.40753 |\n",
       "| 0.3    | 2.21719 | 2.29118 | 2.30049 | 2.30388 |\n",
       "| 0.5    | 2.66382 | 2.72518 | 2.8051  | 2.8553  |\n",
       "| 0.8    | 4.20172 | 4.31186 | 4.41905 | 4.61731 |"
      ],
      "text/plain": [
       "<IPython.core.display.Markdown object>"
      ]
     },
     "execution_count": 28,
     "metadata": {},
     "output_type": "execute_result"
    }
   ],
   "source": [
    "#| echo: false\n",
    "generate_markdown('FirmsFAIL_std')"
   ]
  },
  {
   "cell_type": "markdown",
   "id": "13245051a5026a9d",
   "metadata": {
    "collapsed": false
   },
   "source": [
    "{{< pagebreak >}}\n",
    "## Bank L"
   ]
  },
  {
   "cell_type": "code",
   "execution_count": 29,
   "id": "7538549a38a15af2",
   "metadata": {
    "ExecuteTime": {
     "end_time": "2024-04-20T22:01:54.170069Z",
     "start_time": "2024-04-20T22:01:54.141254Z"
    }
   },
   "outputs": [
    {
     "data": {
      "text/markdown": [
       "$\\begin{matrix} & \\beta \\\\ \\eta & \\end{matrix}$        |             0.02 |              0.03 |             0.04 |             0.05 |\n",
       "|-------:|-----------------:|------------------:|-----------------:|-----------------:|\n",
       "| 0.0001 |      1.12799e+99 |      1.72244e+100 |      4.33291e+75 |      2.8544e+97  |\n",
       "| 0.1    |      1.31517e+60 |      2.84847e+52  |      1.42337e+55 |      2.4666e+46  |\n",
       "| 0.3    |      9.76745e+17 |      6.74408e+17  |      2.55571e+18 |      3.95284e+14 |\n",
       "| 0.5    |      1.22683e+06 |      1.19487e+06  |      1.19861e+06 |      1.18292e+06 |\n",
       "| 0.8    | 358235           | 366845            | 345611           | 338755           |"
      ],
      "text/plain": [
       "<IPython.core.display.Markdown object>"
      ]
     },
     "execution_count": 29,
     "metadata": {},
     "output_type": "execute_result"
    }
   ],
   "source": [
    "#| label: tbl-bankl\n",
    "#| echo: false\n",
    "generate_markdown('BankL')"
   ]
  },
  {
   "cell_type": "code",
   "execution_count": 30,
   "id": "433aa006747b473f",
   "metadata": {
    "ExecuteTime": {
     "end_time": "2024-04-20T22:01:54.200901Z",
     "start_time": "2024-04-20T22:01:54.172590Z"
    }
   },
   "outputs": [
    {
     "data": {
      "text/markdown": [
       "$\\begin{matrix} & \\beta \\\\ \\eta & \\end{matrix}$        |              0.02 |              0.03 |             0.04 |             0.05 |\n",
       "|-------:|------------------:|------------------:|-----------------:|-----------------:|\n",
       "| 0.0001 |      3.17806e+100 |      1.06786e+101 |      4.46188e+76 |      4.88068e+98 |\n",
       "| 0.1    |      1.07218e+61  |      1.22963e+53  |      1.10957e+56 |      8.35963e+46 |\n",
       "| 0.3    |      4.06154e+18  |      2.83352e+18  |      5.08587e+19 |      1.40524e+15 |\n",
       "| 0.5    | 716030            | 696737            | 693563           | 692630           |\n",
       "| 0.8    | 207376            | 227789            | 202923           | 200244           |"
      ],
      "text/plain": [
       "<IPython.core.display.Markdown object>"
      ]
     },
     "execution_count": 30,
     "metadata": {},
     "output_type": "execute_result"
    }
   ],
   "source": [
    "#| echo: false\n",
    "generate_markdown('BankL_std')"
   ]
  },
  {
   "cell_type": "markdown",
   "id": "311f125c6d973c57",
   "metadata": {
    "collapsed": false
   },
   "source": [
    "{{< pagebreak >}}\n",
    "## Bank A"
   ]
  },
  {
   "cell_type": "code",
   "execution_count": 31,
   "id": "cfbeacd8f433916a",
   "metadata": {
    "ExecuteTime": {
     "end_time": "2024-04-20T22:01:54.232793Z",
     "start_time": "2024-04-20T22:01:54.204684Z"
    }
   },
   "outputs": [
    {
     "data": {
      "text/markdown": [
       "$\\begin{matrix} & \\beta \\\\ \\eta & \\end{matrix}$        |      0.02 |      0.03 |      0.04 |      0.05 |\n",
       "|-------:|----------:|----------:|----------:|----------:|\n",
       "| 0.0001 | 122.721   | 125.878   | 113.204   | 114.957   |\n",
       "| 0.1    |  86.3606  |  80.4542  |  79.3813  |  74.1509  |\n",
       "| 0.3    |  29.1119  |  26.5681  |  25.6595  |  26.2879  |\n",
       "| 0.5    |  11.1827  |  11.158   |  11.162   |  11.1507  |\n",
       "| 0.8    |   9.96406 |   9.96689 |   9.92073 |   9.89868 |"
      ],
      "text/plain": [
       "<IPython.core.display.Markdown object>"
      ]
     },
     "execution_count": 31,
     "metadata": {},
     "output_type": "execute_result"
    }
   ],
   "source": [
    "#| label: tbl-banka\n",
    "#| echo: false\n",
    "generate_markdown('BankA')"
   ]
  },
  {
   "cell_type": "code",
   "execution_count": 32,
   "id": "fd6ce9c8b0eb9e7c",
   "metadata": {
    "ExecuteTime": {
     "end_time": "2024-04-20T22:01:54.264044Z",
     "start_time": "2024-04-20T22:01:54.236271Z"
    }
   },
   "outputs": [
    {
     "data": {
      "text/markdown": [
       "$\\begin{matrix} & \\beta \\\\ \\eta & \\end{matrix}$        |      0.02 |      0.03 |      0.04 |      0.05 |\n",
       "|-------:|----------:|----------:|----------:|----------:|\n",
       "| 0.0001 | 50.7046   | 55.4454   | 42.6572   | 47.643    |\n",
       "| 0.1    | 32.5727   | 27.5772   | 27.3449   | 24.2789   |\n",
       "| 0.3    |  7.85576  |  6.64432  |  5.82103  |  5.46841  |\n",
       "| 0.5    |  0.996042 |  0.992708 |  0.994343 |  0.985841 |\n",
       "| 0.8    |  0.956753 |  0.980128 |  0.966625 |  0.972428 |"
      ],
      "text/plain": [
       "<IPython.core.display.Markdown object>"
      ]
     },
     "execution_count": 32,
     "metadata": {},
     "output_type": "execute_result"
    }
   ],
   "source": [
    "#| echo: false\n",
    "generate_markdown('BankA_std')"
   ]
  },
  {
   "cell_type": "markdown",
   "id": "a2a3798e063fb600",
   "metadata": {
    "collapsed": false
   },
   "source": [
    "{{< pagebreak >}}\n",
    "## Bank D"
   ]
  },
  {
   "cell_type": "code",
   "execution_count": 33,
   "id": "c4b05aa17b0c5959",
   "metadata": {
    "ExecuteTime": {
     "end_time": "2024-04-20T22:01:54.294650Z",
     "start_time": "2024-04-20T22:01:54.266579Z"
    }
   },
   "outputs": [
    {
     "data": {
      "text/markdown": [
       "$\\begin{matrix} & \\beta \\\\ \\eta & \\end{matrix}$        |             0.02 |              0.03 |             0.04 |             0.05 |\n",
       "|-------:|-----------------:|------------------:|-----------------:|-----------------:|\n",
       "| 0.0001 |      1.03775e+99 |      1.58465e+100 |      3.98627e+75 |      2.62605e+97 |\n",
       "| 0.1    |      1.20995e+60 |      2.6206e+52   |      1.3095e+55  |      2.26927e+46 |\n",
       "| 0.3    |      8.98605e+17 |      6.20456e+17  |      2.35125e+18 |      3.63661e+14 |\n",
       "| 0.5    |      1.12868e+06 |      1.09928e+06  |      1.10272e+06 |      1.08829e+06 |\n",
       "| 0.8    | 329576           | 337498            | 317962           | 311655           |"
      ],
      "text/plain": [
       "<IPython.core.display.Markdown object>"
      ]
     },
     "execution_count": 33,
     "metadata": {},
     "output_type": "execute_result"
    }
   ],
   "source": [
    "#| label: tbl-bankd\n",
    "#| echo: false\n",
    "generate_markdown('BankD')"
   ]
  },
  {
   "cell_type": "code",
   "execution_count": 34,
   "id": "bc58634d4dfa578a",
   "metadata": {
    "ExecuteTime": {
     "end_time": "2024-04-20T22:01:54.324809Z",
     "start_time": "2024-04-20T22:01:54.299354Z"
    }
   },
   "outputs": [
    {
     "data": {
      "text/markdown": [
       "$\\begin{matrix} & \\beta \\\\ \\eta & \\end{matrix}$        |              0.02 |              0.03 |             0.04 |             0.05 |\n",
       "|-------:|------------------:|------------------:|-----------------:|-----------------:|\n",
       "| 0.0001 |      2.92381e+100 |      9.82428e+100 |      4.10493e+76 |      4.49023e+98 |\n",
       "| 0.1    |      9.86405e+60  |      1.13126e+53  |      1.02081e+56 |      7.69086e+46 |\n",
       "| 0.3    |      3.73662e+18  |      2.60684e+18  |      4.679e+19   |      1.29282e+15 |\n",
       "| 0.5    | 658747            | 640998            | 638078           | 637220           |\n",
       "| 0.8    | 190786            | 209565            | 186689           | 184225           |"
      ],
      "text/plain": [
       "<IPython.core.display.Markdown object>"
      ]
     },
     "execution_count": 34,
     "metadata": {},
     "output_type": "execute_result"
    }
   ],
   "source": [
    "#| echo: false\n",
    "generate_markdown('BankD_std')"
   ]
  },
  {
   "cell_type": "markdown",
   "id": "18ede07ce7ca92c4",
   "metadata": {
    "collapsed": false
   },
   "source": [
    "{{< pagebreak >}}\n",
    "## Bank PROFITS"
   ]
  },
  {
   "cell_type": "code",
   "execution_count": 35,
   "id": "97a2161fd77a0c1e",
   "metadata": {
    "ExecuteTime": {
     "end_time": "2024-04-20T22:01:54.355718Z",
     "start_time": "2024-04-20T22:01:54.327177Z"
    }
   },
   "outputs": [
    {
     "data": {
      "text/markdown": [
       "$\\begin{matrix} & \\beta \\\\ \\eta & \\end{matrix}$        |         0.02 |         0.03 |         0.04 |         0.05 |\n",
       "|-------:|-------------:|-------------:|-------------:|-------------:|\n",
       "| 0.0001 | -2.67593e+95 | -1.14945e+95 | -3.14369e+71 | -1.47737e+93 |\n",
       "| 0.1    | -1.56457e+55 | -9.50136e+46 | -1.38296e+50 | -8.29798e+40 |\n",
       "| 0.3    | -3.35713e+12 | -6.34251e+12 | -3.9206e+14  | -2.77867e+08 |\n",
       "| 0.5    | -4.57613     | -5.67309     | -5.43466     | -8.59999     |\n",
       "| 0.8    | -1.40745     | -1.10663     | -1.72453     | -3.87328     |"
      ],
      "text/plain": [
       "<IPython.core.display.Markdown object>"
      ]
     },
     "execution_count": 35,
     "metadata": {},
     "output_type": "execute_result"
    }
   ],
   "source": [
    "#| label: tbl-bankprofits\n",
    "#| echo: false\n",
    "generate_markdown('BankPROFITS')"
   ]
  },
  {
   "cell_type": "code",
   "execution_count": 36,
   "id": "ce414ee948c4e69f",
   "metadata": {
    "ExecuteTime": {
     "end_time": "2024-04-20T22:01:54.386570Z",
     "start_time": "2024-04-20T22:01:54.358193Z"
    }
   },
   "outputs": [
    {
     "data": {
      "text/markdown": [
       "$\\begin{matrix} & \\beta \\\\ \\eta & \\end{matrix}$        |         0.02 |         0.03 |         0.04 |          0.05 |\n",
       "|-------:|-------------:|-------------:|-------------:|--------------:|\n",
       "| 0.0001 |  1.19903e+97 |  4.69709e+96 |  1.85234e+73 |   7.6319e+94  |\n",
       "| 0.1    |  7.24217e+56 |  3.86991e+48 |  9.30067e+51 |   3.35996e+42 |\n",
       "| 0.3    |  1.56417e+14 |  3.58556e+14 |  1.5544e+16  |   1.32391e+11 |\n",
       "| 0.5    | 44.507       | 87.4938      | 64.0533      |  95.9979      |\n",
       "| 0.8    | 46.8447      | 63.8927      | 24.333       | 139.815       |"
      ],
      "text/plain": [
       "<IPython.core.display.Markdown object>"
      ]
     },
     "execution_count": 36,
     "metadata": {},
     "output_type": "execute_result"
    }
   ],
   "source": [
    "#| label: tbl-bankprofitsstd\n",
    "#| echo: false\n",
    "generate_markdown('BankPROFITS_std')"
   ]
  },
  {
   "cell_type": "markdown",
   "id": "d2cd3dd1ab7d359a",
   "metadata": {
    "collapsed": false
   },
   "source": [
    "{{< pagebreak >}}\n",
    "## Bank BD"
   ]
  },
  {
   "cell_type": "code",
   "execution_count": 37,
   "id": "604a2ba6d37d8853",
   "metadata": {
    "ExecuteTime": {
     "end_time": "2024-04-20T22:01:54.417277Z",
     "start_time": "2024-04-20T22:01:54.389022Z"
    }
   },
   "outputs": [
    {
     "data": {
      "text/markdown": [
       "$\\begin{matrix} & \\beta \\\\ \\eta & \\end{matrix}$        |       0.02 |       0.03 |       0.04 |       0.05 |\n",
       "|-------:|-----------:|-----------:|-----------:|-----------:|\n",
       "| 0.0001 | -inf       | -inf       | -inf       | -inf       |\n",
       "| 0.1    | -inf       | -inf       | -inf       | -inf       |\n",
       "| 0.3    | -inf       | -inf       | -inf       | -inf       |\n",
       "| 0.5    | -inf       | -inf       | -inf       | -inf       |\n",
       "| 0.8    |    2.43785 |    2.55743 |    2.68238 |    2.79151 |"
      ],
      "text/plain": [
       "<IPython.core.display.Markdown object>"
      ]
     },
     "execution_count": 37,
     "metadata": {},
     "output_type": "execute_result"
    }
   ],
   "source": [
    "#| label: tbl-bankbd\n",
    "#| echo: false\n",
    "generate_markdown('BankBD')"
   ]
  },
  {
   "cell_type": "code",
   "execution_count": 38,
   "id": "bacc4d7f5277fabf",
   "metadata": {
    "ExecuteTime": {
     "end_time": "2024-04-20T22:01:54.448713Z",
     "start_time": "2024-04-20T22:01:54.420895Z"
    }
   },
   "outputs": [
    {
     "data": {
      "text/markdown": [
       "$\\begin{matrix} & \\beta \\\\ \\eta & \\end{matrix}$        |       0.02 |       0.03 |       0.04 |       0.05 |\n",
       "|-------:|-----------:|-----------:|-----------:|-----------:|\n",
       "| 0.0001 | nan        | nan        | nan        | nan        |\n",
       "| 0.1    | nan        | nan        | nan        | nan        |\n",
       "| 0.3    | nan        | nan        | nan        | nan        |\n",
       "| 0.5    | nan        | nan        | nan        | nan        |\n",
       "| 0.8    |   0.410906 |   0.392234 |   0.375772 |   0.369417 |"
      ],
      "text/plain": [
       "<IPython.core.display.Markdown object>"
      ]
     },
     "execution_count": 38,
     "metadata": {},
     "output_type": "execute_result"
    }
   ],
   "source": [
    "#| label: tbl-bankbdSTD\n",
    "#| echo: false\n",
    "generate_markdown('BankBD_std')"
   ]
  }
 ],
 "metadata": {
  "kernelspec": {
   "display_name": "Python 3",
   "language": "python",
   "name": "python3"
  },
  "language_info": {
   "codemirror_mode": {
    "name": "ipython",
    "version": 3
   },
   "file_extension": ".py",
   "mimetype": "text/x-python",
   "name": "python",
   "nbconvert_exporter": "python",
   "pygments_lexer": "ipython3",
   "version": "3.10.11"
  }
 },
 "nbformat": 4,
 "nbformat_minor": 5
}
